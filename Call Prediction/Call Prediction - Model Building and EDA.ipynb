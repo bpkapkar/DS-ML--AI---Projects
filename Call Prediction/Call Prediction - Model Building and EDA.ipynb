{
 "cells": [
  {
   "cell_type": "markdown",
   "metadata": {},
   "source": [
    "#  Use the 4 months customer call data (April - July 2020) and predict next customer call date and purpose  for August 2020."
   ]
  },
  {
   "cell_type": "code",
   "execution_count": 1,
   "metadata": {},
   "outputs": [],
   "source": [
    "import pandas as pd\n",
    "import numpy as np\n",
    "import seaborn as sns\n",
    "import matplotlib.pyplot as plt\n",
    "%matplotlib inline\n",
    "from sklearn.metrics import r2_score\n",
    "import datetime"
   ]
  },
  {
   "cell_type": "code",
   "execution_count": 2,
   "metadata": {},
   "outputs": [],
   "source": [
    "# Reading the dataset\n",
    "df=pd.read_csv(\"calldata.csv\")"
   ]
  },
  {
   "cell_type": "markdown",
   "metadata": {},
   "source": [
    "# Exploratory data analysis (EDA)"
   ]
  },
  {
   "cell_type": "code",
   "execution_count": 3,
   "metadata": {},
   "outputs": [
    {
     "data": {
      "text/plain": [
       "(700, 5)"
      ]
     },
     "execution_count": 3,
     "metadata": {},
     "output_type": "execute_result"
    }
   ],
   "source": [
    "df.shape"
   ]
  },
  {
   "cell_type": "code",
   "execution_count": 4,
   "metadata": {},
   "outputs": [
    {
     "name": "stdout",
     "output_type": "stream",
     "text": [
      "<class 'pandas.core.frame.DataFrame'>\n",
      "RangeIndex: 700 entries, 0 to 699\n",
      "Data columns (total 5 columns):\n",
      " #   Column        Non-Null Count  Dtype \n",
      "---  ------        --------------  ----- \n",
      " 0   CustomerID    700 non-null    object\n",
      " 1   AgentID       700 non-null    object\n",
      " 2   CallDate      700 non-null    object\n",
      " 3   CallPurpose   700 non-null    object\n",
      " 4   Satisfaction  700 non-null    int64 \n",
      "dtypes: int64(1), object(4)\n",
      "memory usage: 27.5+ KB\n"
     ]
    }
   ],
   "source": [
    "#data information\n",
    "df.info()"
   ]
  },
  {
   "cell_type": "code",
   "execution_count": null,
   "metadata": {},
   "outputs": [],
   "source": []
  },
  {
   "cell_type": "code",
   "execution_count": 5,
   "metadata": {},
   "outputs": [
    {
     "data": {
      "text/html": [
       "<div>\n",
       "<style scoped>\n",
       "    .dataframe tbody tr th:only-of-type {\n",
       "        vertical-align: middle;\n",
       "    }\n",
       "\n",
       "    .dataframe tbody tr th {\n",
       "        vertical-align: top;\n",
       "    }\n",
       "\n",
       "    .dataframe thead th {\n",
       "        text-align: right;\n",
       "    }\n",
       "</style>\n",
       "<table border=\"1\" class=\"dataframe\">\n",
       "  <thead>\n",
       "    <tr style=\"text-align: right;\">\n",
       "      <th></th>\n",
       "      <th>CustomerID</th>\n",
       "      <th>AgentID</th>\n",
       "      <th>CallDate</th>\n",
       "      <th>CallPurpose</th>\n",
       "      <th>Satisfaction</th>\n",
       "    </tr>\n",
       "  </thead>\n",
       "  <tbody>\n",
       "    <tr>\n",
       "      <th>0</th>\n",
       "      <td>C0094</td>\n",
       "      <td>A006</td>\n",
       "      <td>6/27/20 8:43 AM</td>\n",
       "      <td>Cannot login</td>\n",
       "      <td>1</td>\n",
       "    </tr>\n",
       "    <tr>\n",
       "      <th>1</th>\n",
       "      <td>C0083</td>\n",
       "      <td>A002</td>\n",
       "      <td>6/3/20 8:58 AM</td>\n",
       "      <td>Credit declined</td>\n",
       "      <td>2</td>\n",
       "    </tr>\n",
       "    <tr>\n",
       "      <th>2</th>\n",
       "      <td>C0005</td>\n",
       "      <td>A009</td>\n",
       "      <td>5/14/20 8:50 AM</td>\n",
       "      <td>Account Balance</td>\n",
       "      <td>2</td>\n",
       "    </tr>\n",
       "    <tr>\n",
       "      <th>3</th>\n",
       "      <td>C0013</td>\n",
       "      <td>A009</td>\n",
       "      <td>6/25/20 9:29 AM</td>\n",
       "      <td>Credit declined</td>\n",
       "      <td>1</td>\n",
       "    </tr>\n",
       "    <tr>\n",
       "      <th>4</th>\n",
       "      <td>C0012</td>\n",
       "      <td>A007</td>\n",
       "      <td>5/7/20 9:38 AM</td>\n",
       "      <td>Cannot login</td>\n",
       "      <td>5</td>\n",
       "    </tr>\n",
       "  </tbody>\n",
       "</table>\n",
       "</div>"
      ],
      "text/plain": [
       "  CustomerID AgentID         CallDate      CallPurpose  Satisfaction\n",
       "0      C0094    A006  6/27/20 8:43 AM     Cannot login             1\n",
       "1      C0083    A002   6/3/20 8:58 AM  Credit declined             2\n",
       "2      C0005    A009  5/14/20 8:50 AM  Account Balance             2\n",
       "3      C0013    A009  6/25/20 9:29 AM  Credit declined             1\n",
       "4      C0012    A007   5/7/20 9:38 AM     Cannot login             5"
      ]
     },
     "execution_count": 5,
     "metadata": {},
     "output_type": "execute_result"
    }
   ],
   "source": [
    "# Checking the data\n",
    "df.head()"
   ]
  },
  {
   "cell_type": "code",
   "execution_count": 6,
   "metadata": {},
   "outputs": [
    {
     "data": {
      "text/plain": [
       "105"
      ]
     },
     "execution_count": 6,
     "metadata": {},
     "output_type": "execute_result"
    }
   ],
   "source": [
    "# unique customer calling to customer care\n",
    "df['CustomerID'].nunique()"
   ]
  },
  {
   "cell_type": "code",
   "execution_count": 7,
   "metadata": {},
   "outputs": [
    {
     "data": {
      "text/plain": [
       "10"
      ]
     },
     "execution_count": 7,
     "metadata": {},
     "output_type": "execute_result"
    }
   ],
   "source": [
    "# Nos of Agents handliing the call\n",
    "df['AgentID'].nunique()"
   ]
  },
  {
   "cell_type": "code",
   "execution_count": 8,
   "metadata": {},
   "outputs": [
    {
     "name": "stdout",
     "output_type": "stream",
     "text": [
      "A007    130\n",
      "A008     72\n",
      "A004     66\n",
      "A005     66\n",
      "A009     65\n",
      "A006     64\n",
      "A003     61\n",
      "A002     60\n",
      "A001     59\n",
      "A010     57\n",
      "Name: AgentID, dtype: int64\n"
     ]
    },
    {
     "data": {
      "text/plain": [
       "Text(0.5, 1.0, 'Agent Counts')"
      ]
     },
     "execution_count": 8,
     "metadata": {},
     "output_type": "execute_result"
    },
    {
     "data": {
      "image/png": "[encoded data removed]",
      "text/plain": [
       "<Figure size 432x288 with 1 Axes>"
      ]
     },
     "metadata": {
      "needs_background": "light"
     },
     "output_type": "display_data"
    }
   ],
   "source": [
    "#Nos of volume hnadle by each Agent\n",
    "print(df['AgentID'].value_counts())\n",
    "sns.barplot(x=df['AgentID'].value_counts().index, y=df['AgentID'].value_counts())\n",
    "plt.title(\"Agent Counts\")"
   ]
  },
  {
   "cell_type": "code",
   "execution_count": 9,
   "metadata": {},
   "outputs": [
    {
     "data": {
      "text/html": [
       "<div>\n",
       "<style scoped>\n",
       "    .dataframe tbody tr th:only-of-type {\n",
       "        vertical-align: middle;\n",
       "    }\n",
       "\n",
       "    .dataframe tbody tr th {\n",
       "        vertical-align: top;\n",
       "    }\n",
       "\n",
       "    .dataframe thead th {\n",
       "        text-align: right;\n",
       "    }\n",
       "</style>\n",
       "<table border=\"1\" class=\"dataframe\">\n",
       "  <thead>\n",
       "    <tr style=\"text-align: right;\">\n",
       "      <th></th>\n",
       "      <th></th>\n",
       "      <th>CustomerID</th>\n",
       "      <th>CallDate</th>\n",
       "      <th>Satisfaction</th>\n",
       "    </tr>\n",
       "    <tr>\n",
       "      <th>AgentID</th>\n",
       "      <th>CallPurpose</th>\n",
       "      <th></th>\n",
       "      <th></th>\n",
       "      <th></th>\n",
       "    </tr>\n",
       "  </thead>\n",
       "  <tbody>\n",
       "    <tr>\n",
       "      <th rowspan=\"2\" valign=\"top\">A001</th>\n",
       "      <th>Account Balance</th>\n",
       "      <td>39</td>\n",
       "      <td>39</td>\n",
       "      <td>39</td>\n",
       "    </tr>\n",
       "    <tr>\n",
       "      <th>Cannot login</th>\n",
       "      <td>20</td>\n",
       "      <td>20</td>\n",
       "      <td>20</td>\n",
       "    </tr>\n",
       "    <tr>\n",
       "      <th rowspan=\"3\" valign=\"top\">A002</th>\n",
       "      <th>Account Balance</th>\n",
       "      <td>39</td>\n",
       "      <td>39</td>\n",
       "      <td>39</td>\n",
       "    </tr>\n",
       "    <tr>\n",
       "      <th>Cannot login</th>\n",
       "      <td>15</td>\n",
       "      <td>15</td>\n",
       "      <td>15</td>\n",
       "    </tr>\n",
       "    <tr>\n",
       "      <th>Credit declined</th>\n",
       "      <td>6</td>\n",
       "      <td>6</td>\n",
       "      <td>6</td>\n",
       "    </tr>\n",
       "    <tr>\n",
       "      <th rowspan=\"3\" valign=\"top\">A003</th>\n",
       "      <th>Account Balance</th>\n",
       "      <td>42</td>\n",
       "      <td>42</td>\n",
       "      <td>42</td>\n",
       "    </tr>\n",
       "    <tr>\n",
       "      <th>Cannot login</th>\n",
       "      <td>16</td>\n",
       "      <td>16</td>\n",
       "      <td>16</td>\n",
       "    </tr>\n",
       "    <tr>\n",
       "      <th>Credit declined</th>\n",
       "      <td>3</td>\n",
       "      <td>3</td>\n",
       "      <td>3</td>\n",
       "    </tr>\n",
       "    <tr>\n",
       "      <th rowspan=\"3\" valign=\"top\">A004</th>\n",
       "      <th>Account Balance</th>\n",
       "      <td>45</td>\n",
       "      <td>45</td>\n",
       "      <td>45</td>\n",
       "    </tr>\n",
       "    <tr>\n",
       "      <th>Cannot login</th>\n",
       "      <td>18</td>\n",
       "      <td>18</td>\n",
       "      <td>18</td>\n",
       "    </tr>\n",
       "    <tr>\n",
       "      <th>Credit declined</th>\n",
       "      <td>3</td>\n",
       "      <td>3</td>\n",
       "      <td>3</td>\n",
       "    </tr>\n",
       "    <tr>\n",
       "      <th rowspan=\"3\" valign=\"top\">A005</th>\n",
       "      <th>Account Balance</th>\n",
       "      <td>45</td>\n",
       "      <td>45</td>\n",
       "      <td>45</td>\n",
       "    </tr>\n",
       "    <tr>\n",
       "      <th>Cannot login</th>\n",
       "      <td>19</td>\n",
       "      <td>19</td>\n",
       "      <td>19</td>\n",
       "    </tr>\n",
       "    <tr>\n",
       "      <th>Credit declined</th>\n",
       "      <td>2</td>\n",
       "      <td>2</td>\n",
       "      <td>2</td>\n",
       "    </tr>\n",
       "    <tr>\n",
       "      <th rowspan=\"3\" valign=\"top\">A006</th>\n",
       "      <th>Account Balance</th>\n",
       "      <td>36</td>\n",
       "      <td>36</td>\n",
       "      <td>36</td>\n",
       "    </tr>\n",
       "    <tr>\n",
       "      <th>Cannot login</th>\n",
       "      <td>24</td>\n",
       "      <td>24</td>\n",
       "      <td>24</td>\n",
       "    </tr>\n",
       "    <tr>\n",
       "      <th>Credit declined</th>\n",
       "      <td>4</td>\n",
       "      <td>4</td>\n",
       "      <td>4</td>\n",
       "    </tr>\n",
       "    <tr>\n",
       "      <th rowspan=\"3\" valign=\"top\">A007</th>\n",
       "      <th>Account Balance</th>\n",
       "      <td>63</td>\n",
       "      <td>63</td>\n",
       "      <td>63</td>\n",
       "    </tr>\n",
       "    <tr>\n",
       "      <th>Cannot login</th>\n",
       "      <td>65</td>\n",
       "      <td>65</td>\n",
       "      <td>65</td>\n",
       "    </tr>\n",
       "    <tr>\n",
       "      <th>Credit declined</th>\n",
       "      <td>2</td>\n",
       "      <td>2</td>\n",
       "      <td>2</td>\n",
       "    </tr>\n",
       "    <tr>\n",
       "      <th rowspan=\"3\" valign=\"top\">A008</th>\n",
       "      <th>Account Balance</th>\n",
       "      <td>52</td>\n",
       "      <td>52</td>\n",
       "      <td>52</td>\n",
       "    </tr>\n",
       "    <tr>\n",
       "      <th>Cannot login</th>\n",
       "      <td>17</td>\n",
       "      <td>17</td>\n",
       "      <td>17</td>\n",
       "    </tr>\n",
       "    <tr>\n",
       "      <th>Credit declined</th>\n",
       "      <td>3</td>\n",
       "      <td>3</td>\n",
       "      <td>3</td>\n",
       "    </tr>\n",
       "    <tr>\n",
       "      <th rowspan=\"3\" valign=\"top\">A009</th>\n",
       "      <th>Account Balance</th>\n",
       "      <td>48</td>\n",
       "      <td>48</td>\n",
       "      <td>48</td>\n",
       "    </tr>\n",
       "    <tr>\n",
       "      <th>Cannot login</th>\n",
       "      <td>11</td>\n",
       "      <td>11</td>\n",
       "      <td>11</td>\n",
       "    </tr>\n",
       "    <tr>\n",
       "      <th>Credit declined</th>\n",
       "      <td>6</td>\n",
       "      <td>6</td>\n",
       "      <td>6</td>\n",
       "    </tr>\n",
       "    <tr>\n",
       "      <th rowspan=\"2\" valign=\"top\">A010</th>\n",
       "      <th>Account Balance</th>\n",
       "      <td>35</td>\n",
       "      <td>35</td>\n",
       "      <td>35</td>\n",
       "    </tr>\n",
       "    <tr>\n",
       "      <th>Cannot login</th>\n",
       "      <td>22</td>\n",
       "      <td>22</td>\n",
       "      <td>22</td>\n",
       "    </tr>\n",
       "  </tbody>\n",
       "</table>\n",
       "</div>"
      ],
      "text/plain": [
       "                         CustomerID  CallDate  Satisfaction\n",
       "AgentID CallPurpose                                        \n",
       "A001    Account Balance          39        39            39\n",
       "        Cannot login             20        20            20\n",
       "A002    Account Balance          39        39            39\n",
       "        Cannot login             15        15            15\n",
       "        Credit declined           6         6             6\n",
       "A003    Account Balance          42        42            42\n",
       "        Cannot login             16        16            16\n",
       "        Credit declined           3         3             3\n",
       "A004    Account Balance          45        45            45\n",
       "        Cannot login             18        18            18\n",
       "        Credit declined           3         3             3\n",
       "A005    Account Balance          45        45            45\n",
       "        Cannot login             19        19            19\n",
       "        Credit declined           2         2             2\n",
       "A006    Account Balance          36        36            36\n",
       "        Cannot login             24        24            24\n",
       "        Credit declined           4         4             4\n",
       "A007    Account Balance          63        63            63\n",
       "        Cannot login             65        65            65\n",
       "        Credit declined           2         2             2\n",
       "A008    Account Balance          52        52            52\n",
       "        Cannot login             17        17            17\n",
       "        Credit declined           3         3             3\n",
       "A009    Account Balance          48        48            48\n",
       "        Cannot login             11        11            11\n",
       "        Credit declined           6         6             6\n",
       "A010    Account Balance          35        35            35\n",
       "        Cannot login             22        22            22"
      ]
     },
     "execution_count": 9,
     "metadata": {},
     "output_type": "execute_result"
    }
   ],
   "source": [
    "#To identify is their any specfic agent that specfic purpose call only\n",
    "df.groupby(['AgentID','CallPurpose']).count()"
   ]
  },
  {
   "cell_type": "code",
   "execution_count": 10,
   "metadata": {},
   "outputs": [
    {
     "name": "stdout",
     "output_type": "stream",
     "text": [
      "A007    130\n",
      "A008     72\n",
      "A004     66\n",
      "A005     66\n",
      "A009     65\n",
      "A006     64\n",
      "A003     61\n",
      "A002     60\n",
      "A001     59\n",
      "A010     57\n",
      "Name: AgentID, dtype: int64\n"
     ]
    },
    {
     "data": {
      "text/plain": [
       "Text(0.5, 1.0, 'Agent Counts')"
      ]
     },
     "execution_count": 10,
     "metadata": {},
     "output_type": "execute_result"
    },
    {
     "data": {
      "image/png": "[encoded data removed]",
      "text/plain": [
       "<Figure size 432x288 with 1 Axes>"
      ]
     },
     "metadata": {
      "needs_background": "light"
     },
     "output_type": "display_data"
    }
   ],
   "source": [
    "#Nos of volume hnadle by each Agent\n",
    "print(df['AgentID'].value_counts())\n",
    "sns.barplot(x=df['AgentID'].value_counts().index, y=df['AgentID'].value_counts())\n",
    "plt.title(\"Agent Counts\")"
   ]
  },
  {
   "cell_type": "code",
   "execution_count": 11,
   "metadata": {},
   "outputs": [
    {
     "data": {
      "text/plain": [
       "Text(0.5, 1.0, 'Purpose Count')"
      ]
     },
     "execution_count": 11,
     "metadata": {},
     "output_type": "execute_result"
    },
    {
     "data": {
      "image/png": "[encoded data removed]",
      "text/plain": [
       "<Figure size 432x288 with 1 Axes>"
      ]
     },
     "metadata": {
      "needs_background": "light"
     },
     "output_type": "display_data"
    }
   ],
   "source": [
    "# Frequency of each purpose recevied by customer case\n",
    "df['CallPurpose'].value_counts()\n",
    "sns.barplot(x=df['CallPurpose'].value_counts().index, y=df['CallPurpose'].value_counts())\n",
    "plt.title(\"Purpose Count\")"
   ]
  },
  {
   "cell_type": "code",
   "execution_count": 12,
   "metadata": {},
   "outputs": [
    {
     "data": {
      "text/plain": [
       "Account Balance    0.634286\n",
       "Cannot login       0.324286\n",
       "Credit declined    0.041429\n",
       "Name: CallPurpose, dtype: float64"
      ]
     },
     "execution_count": 12,
     "metadata": {},
     "output_type": "execute_result"
    }
   ],
   "source": [
    "# Probabilty of each call Purpose \n",
    "df['CallPurpose'].value_counts(normalize=True)"
   ]
  },
  {
   "cell_type": "code",
   "execution_count": 13,
   "metadata": {},
   "outputs": [
    {
     "data": {
      "text/plain": [
       "<matplotlib.axes._subplots.AxesSubplot at 0x1e1e8c04488>"
      ]
     },
     "execution_count": 13,
     "metadata": {},
     "output_type": "execute_result"
    },
    {
     "data": {
      "image/png": "[encoded data removed]",
      "text/plain": [
       "<Figure size 432x288 with 1 Axes>"
      ]
     },
     "metadata": {
      "needs_background": "light"
     },
     "output_type": "display_data"
    }
   ],
   "source": [
    "# Staisfication level on each pupose \n",
    "sns.countplot(df['Satisfaction'],hue=df['CallPurpose'])\n",
    "# Credit Decline mostly disatsfied customer \n",
    "# Cannot Login is average staisfied customer \n",
    "# Account Balance is most satisfied customer from the data set"
   ]
  },
  {
   "cell_type": "code",
   "execution_count": 14,
   "metadata": {},
   "outputs": [],
   "source": [
    "# Converting to calldate in correct date time format\n",
    "df[\"CallDate\"]=pd.to_datetime(df[\"CallDate\"])"
   ]
  },
  {
   "cell_type": "code",
   "execution_count": 15,
   "metadata": {},
   "outputs": [
    {
     "data": {
      "text/html": [
       "<div>\n",
       "<style scoped>\n",
       "    .dataframe tbody tr th:only-of-type {\n",
       "        vertical-align: middle;\n",
       "    }\n",
       "\n",
       "    .dataframe tbody tr th {\n",
       "        vertical-align: top;\n",
       "    }\n",
       "\n",
       "    .dataframe thead th {\n",
       "        text-align: right;\n",
       "    }\n",
       "</style>\n",
       "<table border=\"1\" class=\"dataframe\">\n",
       "  <thead>\n",
       "    <tr style=\"text-align: right;\">\n",
       "      <th></th>\n",
       "      <th>CustomerID</th>\n",
       "      <th>AgentID</th>\n",
       "      <th>CallDate</th>\n",
       "      <th>CallPurpose</th>\n",
       "      <th>Satisfaction</th>\n",
       "    </tr>\n",
       "  </thead>\n",
       "  <tbody>\n",
       "    <tr>\n",
       "      <th>410</th>\n",
       "      <td>C0001</td>\n",
       "      <td>A007</td>\n",
       "      <td>2020-04-16 09:58:00</td>\n",
       "      <td>Account Balance</td>\n",
       "      <td>3</td>\n",
       "    </tr>\n",
       "    <tr>\n",
       "      <th>97</th>\n",
       "      <td>C0001</td>\n",
       "      <td>A001</td>\n",
       "      <td>2020-04-20 09:50:00</td>\n",
       "      <td>Account Balance</td>\n",
       "      <td>3</td>\n",
       "    </tr>\n",
       "    <tr>\n",
       "      <th>316</th>\n",
       "      <td>C0001</td>\n",
       "      <td>A007</td>\n",
       "      <td>2020-06-15 09:32:00</td>\n",
       "      <td>Account Balance</td>\n",
       "      <td>1</td>\n",
       "    </tr>\n",
       "    <tr>\n",
       "      <th>186</th>\n",
       "      <td>C0001</td>\n",
       "      <td>A004</td>\n",
       "      <td>2020-07-16 08:51:00</td>\n",
       "      <td>Account Balance</td>\n",
       "      <td>4</td>\n",
       "    </tr>\n",
       "    <tr>\n",
       "      <th>448</th>\n",
       "      <td>C0002</td>\n",
       "      <td>A010</td>\n",
       "      <td>2020-05-11 09:14:00</td>\n",
       "      <td>Account Balance</td>\n",
       "      <td>5</td>\n",
       "    </tr>\n",
       "    <tr>\n",
       "      <th>...</th>\n",
       "      <td>...</td>\n",
       "      <td>...</td>\n",
       "      <td>...</td>\n",
       "      <td>...</td>\n",
       "      <td>...</td>\n",
       "    </tr>\n",
       "    <tr>\n",
       "      <th>430</th>\n",
       "      <td>C0105</td>\n",
       "      <td>A001</td>\n",
       "      <td>2020-04-06 08:48:00</td>\n",
       "      <td>Account Balance</td>\n",
       "      <td>5</td>\n",
       "    </tr>\n",
       "    <tr>\n",
       "      <th>411</th>\n",
       "      <td>C0105</td>\n",
       "      <td>A005</td>\n",
       "      <td>2020-06-02 08:40:00</td>\n",
       "      <td>Account Balance</td>\n",
       "      <td>5</td>\n",
       "    </tr>\n",
       "    <tr>\n",
       "      <th>38</th>\n",
       "      <td>C0105</td>\n",
       "      <td>A007</td>\n",
       "      <td>2020-06-11 09:33:00</td>\n",
       "      <td>Cannot login</td>\n",
       "      <td>1</td>\n",
       "    </tr>\n",
       "    <tr>\n",
       "      <th>453</th>\n",
       "      <td>C0105</td>\n",
       "      <td>A009</td>\n",
       "      <td>2020-06-19 09:12:00</td>\n",
       "      <td>Account Balance</td>\n",
       "      <td>4</td>\n",
       "    </tr>\n",
       "    <tr>\n",
       "      <th>399</th>\n",
       "      <td>C0105</td>\n",
       "      <td>A002</td>\n",
       "      <td>2020-06-22 08:50:00</td>\n",
       "      <td>Account Balance</td>\n",
       "      <td>5</td>\n",
       "    </tr>\n",
       "  </tbody>\n",
       "</table>\n",
       "<p>700 rows × 5 columns</p>\n",
       "</div>"
      ],
      "text/plain": [
       "    CustomerID AgentID            CallDate      CallPurpose  Satisfaction\n",
       "410      C0001    A007 2020-04-16 09:58:00  Account Balance             3\n",
       "97       C0001    A001 2020-04-20 09:50:00  Account Balance             3\n",
       "316      C0001    A007 2020-06-15 09:32:00  Account Balance             1\n",
       "186      C0001    A004 2020-07-16 08:51:00  Account Balance             4\n",
       "448      C0002    A010 2020-05-11 09:14:00  Account Balance             5\n",
       "..         ...     ...                 ...              ...           ...\n",
       "430      C0105    A001 2020-04-06 08:48:00  Account Balance             5\n",
       "411      C0105    A005 2020-06-02 08:40:00  Account Balance             5\n",
       "38       C0105    A007 2020-06-11 09:33:00     Cannot login             1\n",
       "453      C0105    A009 2020-06-19 09:12:00  Account Balance             4\n",
       "399      C0105    A002 2020-06-22 08:50:00  Account Balance             5\n",
       "\n",
       "[700 rows x 5 columns]"
      ]
     },
     "execution_count": 15,
     "metadata": {},
     "output_type": "execute_result"
    }
   ],
   "source": [
    "df.sort_values(['CustomerID','CallDate'])"
   ]
  },
  {
   "cell_type": "code",
   "execution_count": 16,
   "metadata": {},
   "outputs": [],
   "source": [
    "#Data Prepration to identify the Purpose Analysis when customer call for first time\n",
    "df.sort_values(['CustomerID','CallDate'],inplace=True)\n",
    "df['first_call_customer'] = df.groupby(['CustomerID'])['CallDate'].shift(1)\n",
    "df['first_call_customer'].fillna(\"0\", inplace=True)\n",
    "dfnew =df[df['first_call_customer']== '0']"
   ]
  },
  {
   "cell_type": "code",
   "execution_count": 17,
   "metadata": {},
   "outputs": [
    {
     "name": "stdout",
     "output_type": "stream",
     "text": [
      "Account Balance    68\n",
      "Cannot login       34\n",
      "Credit declined     3\n",
      "Name: CallPurpose, dtype: int64\n"
     ]
    },
    {
     "data": {
      "text/plain": [
       "<matplotlib.axes._subplots.AxesSubplot at 0x1e1e8cd3a88>"
      ]
     },
     "execution_count": 17,
     "metadata": {},
     "output_type": "execute_result"
    },
    {
     "data": {
      "image/png": "[encoded data removed]",
      "text/plain": [
       "<Figure size 432x288 with 1 Axes>"
      ]
     },
     "metadata": {
      "needs_background": "light"
     },
     "output_type": "display_data"
    }
   ],
   "source": [
    "#Purpose Analysis when customer call for first time \n",
    "print(dfnew['CallPurpose'].value_counts())\n",
    "sns.barplot(x=dfnew['CallPurpose'].value_counts().index,y=dfnew['CallPurpose'].value_counts())"
   ]
  },
  {
   "cell_type": "code",
   "execution_count": 18,
   "metadata": {},
   "outputs": [],
   "source": [
    "# Converting date and time into week, day , weekday, month and  Time foe analysis\n",
    "df['Week'] = pd.to_datetime(df['CallDate']).dt.week\n",
    "df['Day'] = pd.to_datetime(df['CallDate']).dt.day\n",
    "df['WeekDay'] = pd.to_datetime(df['CallDate']).dt.dayofweek\n",
    "df['Month'] = pd.to_datetime(df['CallDate']).dt.month\n",
    "df['Time'] = pd.to_datetime(df['CallDate']).dt.time"
   ]
  },
  {
   "cell_type": "code",
   "execution_count": 19,
   "metadata": {},
   "outputs": [
    {
     "data": {
      "text/html": [
       "<div>\n",
       "<style scoped>\n",
       "    .dataframe tbody tr th:only-of-type {\n",
       "        vertical-align: middle;\n",
       "    }\n",
       "\n",
       "    .dataframe tbody tr th {\n",
       "        vertical-align: top;\n",
       "    }\n",
       "\n",
       "    .dataframe thead th {\n",
       "        text-align: right;\n",
       "    }\n",
       "</style>\n",
       "<table border=\"1\" class=\"dataframe\">\n",
       "  <thead>\n",
       "    <tr style=\"text-align: right;\">\n",
       "      <th></th>\n",
       "      <th>CustomerID</th>\n",
       "      <th>AgentID</th>\n",
       "      <th>CallDate</th>\n",
       "      <th>CallPurpose</th>\n",
       "      <th>Satisfaction</th>\n",
       "      <th>first_call_customer</th>\n",
       "      <th>Week</th>\n",
       "      <th>Day</th>\n",
       "      <th>WeekDay</th>\n",
       "      <th>Month</th>\n",
       "      <th>Time</th>\n",
       "    </tr>\n",
       "  </thead>\n",
       "  <tbody>\n",
       "    <tr>\n",
       "      <th>410</th>\n",
       "      <td>C0001</td>\n",
       "      <td>A007</td>\n",
       "      <td>2020-04-16 09:58:00</td>\n",
       "      <td>Account Balance</td>\n",
       "      <td>3</td>\n",
       "      <td>0</td>\n",
       "      <td>16</td>\n",
       "      <td>16</td>\n",
       "      <td>3</td>\n",
       "      <td>4</td>\n",
       "      <td>09:58:00</td>\n",
       "    </tr>\n",
       "    <tr>\n",
       "      <th>97</th>\n",
       "      <td>C0001</td>\n",
       "      <td>A001</td>\n",
       "      <td>2020-04-20 09:50:00</td>\n",
       "      <td>Account Balance</td>\n",
       "      <td>3</td>\n",
       "      <td>2020-04-16 09:58:00</td>\n",
       "      <td>17</td>\n",
       "      <td>20</td>\n",
       "      <td>0</td>\n",
       "      <td>4</td>\n",
       "      <td>09:50:00</td>\n",
       "    </tr>\n",
       "    <tr>\n",
       "      <th>316</th>\n",
       "      <td>C0001</td>\n",
       "      <td>A007</td>\n",
       "      <td>2020-06-15 09:32:00</td>\n",
       "      <td>Account Balance</td>\n",
       "      <td>1</td>\n",
       "      <td>2020-04-20 09:50:00</td>\n",
       "      <td>25</td>\n",
       "      <td>15</td>\n",
       "      <td>0</td>\n",
       "      <td>6</td>\n",
       "      <td>09:32:00</td>\n",
       "    </tr>\n",
       "    <tr>\n",
       "      <th>186</th>\n",
       "      <td>C0001</td>\n",
       "      <td>A004</td>\n",
       "      <td>2020-07-16 08:51:00</td>\n",
       "      <td>Account Balance</td>\n",
       "      <td>4</td>\n",
       "      <td>2020-06-15 09:32:00</td>\n",
       "      <td>29</td>\n",
       "      <td>16</td>\n",
       "      <td>3</td>\n",
       "      <td>7</td>\n",
       "      <td>08:51:00</td>\n",
       "    </tr>\n",
       "    <tr>\n",
       "      <th>448</th>\n",
       "      <td>C0002</td>\n",
       "      <td>A010</td>\n",
       "      <td>2020-05-11 09:14:00</td>\n",
       "      <td>Account Balance</td>\n",
       "      <td>5</td>\n",
       "      <td>0</td>\n",
       "      <td>20</td>\n",
       "      <td>11</td>\n",
       "      <td>0</td>\n",
       "      <td>5</td>\n",
       "      <td>09:14:00</td>\n",
       "    </tr>\n",
       "  </tbody>\n",
       "</table>\n",
       "</div>"
      ],
      "text/plain": [
       "    CustomerID AgentID            CallDate      CallPurpose  Satisfaction  \\\n",
       "410      C0001    A007 2020-04-16 09:58:00  Account Balance             3   \n",
       "97       C0001    A001 2020-04-20 09:50:00  Account Balance             3   \n",
       "316      C0001    A007 2020-06-15 09:32:00  Account Balance             1   \n",
       "186      C0001    A004 2020-07-16 08:51:00  Account Balance             4   \n",
       "448      C0002    A010 2020-05-11 09:14:00  Account Balance             5   \n",
       "\n",
       "     first_call_customer  Week  Day  WeekDay  Month      Time  \n",
       "410                    0    16   16        3      4  09:58:00  \n",
       "97   2020-04-16 09:58:00    17   20        0      4  09:50:00  \n",
       "316  2020-04-20 09:50:00    25   15        0      6  09:32:00  \n",
       "186  2020-06-15 09:32:00    29   16        3      7  08:51:00  \n",
       "448                    0    20   11        0      5  09:14:00  "
      ]
     },
     "execution_count": 19,
     "metadata": {},
     "output_type": "execute_result"
    }
   ],
   "source": [
    "df.head()"
   ]
  },
  {
   "cell_type": "code",
   "execution_count": null,
   "metadata": {},
   "outputs": [],
   "source": []
  },
  {
   "cell_type": "code",
   "execution_count": 20,
   "metadata": {},
   "outputs": [
    {
     "data": {
      "text/plain": [
       "<matplotlib.axes._subplots.AxesSubplot at 0x1e1e8d5fd48>"
      ]
     },
     "execution_count": 20,
     "metadata": {},
     "output_type": "execute_result"
    },
    {
     "data": {
      "image/png": "[encoded data removed]",
      "text/plain": [
       "<Figure size 1152x576 with 1 Axes>"
      ]
     },
     "metadata": {
      "needs_background": "light"
     },
     "output_type": "display_data"
    }
   ],
   "source": [
    "# Call per day analysis for each month\n",
    "plt.figure(figsize = (16,8))\n",
    "plt.title(\"Call Frequency Analysis Daily\")\n",
    "sns.countplot(df['Day'],hue=df['Month'])"
   ]
  },
  {
   "cell_type": "code",
   "execution_count": 21,
   "metadata": {},
   "outputs": [
    {
     "name": "stdout",
     "output_type": "stream",
     "text": [
      "Month\n",
      "4    176\n",
      "5    165\n",
      "6    187\n",
      "7    172\n",
      "Name: Satisfaction, dtype: int64\n"
     ]
    },
    {
     "data": {
      "text/plain": [
       "<matplotlib.axes._subplots.AxesSubplot at 0x1e1e8ec9748>"
      ]
     },
     "execution_count": 21,
     "metadata": {},
     "output_type": "execute_result"
    },
    {
     "data": {
      "image/png": "[encoded data removed]",
      "text/plain": [
       "<Figure size 1008x432 with 1 Axes>"
      ]
     },
     "metadata": {
      "needs_background": "light"
     },
     "output_type": "display_data"
    }
   ],
   "source": [
    "# Per month day analysis\n",
    "plt.figure(figsize = (14,6))\n",
    "print(df.groupby('Month').count()['Satisfaction'])\n",
    "sns.countplot(df['Month'])"
   ]
  },
  {
   "cell_type": "code",
   "execution_count": 22,
   "metadata": {},
   "outputs": [
    {
     "name": "stdout",
     "output_type": "stream",
     "text": [
      "Average call handle by each month 175.0\n"
     ]
    }
   ],
   "source": [
    "# Average call handle by each month\n",
    "print(\"Average call handle by each month\" , df['Month'].value_counts().values.mean())"
   ]
  },
  {
   "cell_type": "code",
   "execution_count": 23,
   "metadata": {},
   "outputs": [
    {
     "data": {
      "text/plain": [
       "CustomerID  Month\n",
       "C0001       4        2\n",
       "            6        1\n",
       "            7        1\n",
       "C0002       5        2\n",
       "            7        4\n",
       "C0003       4        1\n",
       "            5        2\n",
       "            6        2\n",
       "C0004       4        3\n",
       "            5        2\n",
       "            6        3\n",
       "            7        2\n",
       "C0005       4        1\n",
       "            5        4\n",
       "            6        3\n",
       "            7        1\n",
       "C0006       4        1\n",
       "            5        2\n",
       "            6        4\n",
       "            7        1\n",
       "C0007       5        1\n",
       "            6        5\n",
       "            7        3\n",
       "C0008       4        1\n",
       "            6        1\n",
       "            7        1\n",
       "C0009       4        4\n",
       "            5        1\n",
       "            6        1\n",
       "            7        1\n",
       "C0010       4        1\n",
       "            5        1\n",
       "            6        3\n",
       "C0011       5        1\n",
       "            7        2\n",
       "C0012       4        2\n",
       "            5        3\n",
       "            6        1\n",
       "C0013       4        5\n",
       "            5        1\n",
       "Name: CallDate, dtype: int64"
      ]
     },
     "execution_count": 23,
     "metadata": {},
     "output_type": "execute_result"
    }
   ],
   "source": [
    "#To check the pattern by observing some sample how much customer call for each month and frequency of each month \n",
    "df.groupby(['CustomerID','Month']).count()['CallDate'].head(40)"
   ]
  },
  {
   "cell_type": "code",
   "execution_count": null,
   "metadata": {},
   "outputs": [],
   "source": []
  },
  {
   "cell_type": "code",
   "execution_count": null,
   "metadata": {},
   "outputs": [],
   "source": []
  },
  {
   "cell_type": "code",
   "execution_count": null,
   "metadata": {},
   "outputs": [],
   "source": []
  },
  {
   "cell_type": "markdown",
   "metadata": {},
   "source": [
    "# Model Building "
   ]
  },
  {
   "cell_type": "markdown",
   "metadata": {},
   "source": [
    "# Approach\n",
    "1. To predict next customer call date \n",
    "Features:\n",
    "    - Days between current vs previous call day\n",
    "    - Days since user called first\n",
    "    - satisfaction\n",
    "    - can have agent as on-hot coded feature also\n",
    "    \n",
    "Target:\n",
    "    days from previous or first call\n",
    "\n",
    "2. To predict next customer call Purpose:\n",
    "\n",
    "Features:\n",
    "    - Customer ID\n",
    "    - Agent ID\n",
    "    - Staisfaction Level\n",
    "    \n",
    "Target:\n",
    " Purpose of next call\n",
    " "
   ]
  },
  {
   "cell_type": "markdown",
   "metadata": {},
   "source": [
    "# Data Prepration\n",
    "\n",
    "There are a number of preprocessing steps we need to do before building the model"
   ]
  },
  {
   "cell_type": "code",
   "execution_count": 24,
   "metadata": {},
   "outputs": [
    {
     "data": {
      "text/html": [
       "<div>\n",
       "<style scoped>\n",
       "    .dataframe tbody tr th:only-of-type {\n",
       "        vertical-align: middle;\n",
       "    }\n",
       "\n",
       "    .dataframe tbody tr th {\n",
       "        vertical-align: top;\n",
       "    }\n",
       "\n",
       "    .dataframe thead th {\n",
       "        text-align: right;\n",
       "    }\n",
       "</style>\n",
       "<table border=\"1\" class=\"dataframe\">\n",
       "  <thead>\n",
       "    <tr style=\"text-align: right;\">\n",
       "      <th></th>\n",
       "      <th>CustomerID</th>\n",
       "      <th>AgentID</th>\n",
       "      <th>CallDate</th>\n",
       "      <th>CallPurpose</th>\n",
       "      <th>Satisfaction</th>\n",
       "      <th>first_call_customer</th>\n",
       "      <th>Week</th>\n",
       "      <th>Day</th>\n",
       "      <th>WeekDay</th>\n",
       "      <th>Month</th>\n",
       "      <th>Time</th>\n",
       "    </tr>\n",
       "  </thead>\n",
       "  <tbody>\n",
       "    <tr>\n",
       "      <th>410</th>\n",
       "      <td>C0001</td>\n",
       "      <td>A007</td>\n",
       "      <td>2020-04-16 09:58:00</td>\n",
       "      <td>Account Balance</td>\n",
       "      <td>3</td>\n",
       "      <td>0</td>\n",
       "      <td>16</td>\n",
       "      <td>16</td>\n",
       "      <td>3</td>\n",
       "      <td>4</td>\n",
       "      <td>09:58:00</td>\n",
       "    </tr>\n",
       "    <tr>\n",
       "      <th>97</th>\n",
       "      <td>C0001</td>\n",
       "      <td>A001</td>\n",
       "      <td>2020-04-20 09:50:00</td>\n",
       "      <td>Account Balance</td>\n",
       "      <td>3</td>\n",
       "      <td>2020-04-16 09:58:00</td>\n",
       "      <td>17</td>\n",
       "      <td>20</td>\n",
       "      <td>0</td>\n",
       "      <td>4</td>\n",
       "      <td>09:50:00</td>\n",
       "    </tr>\n",
       "    <tr>\n",
       "      <th>316</th>\n",
       "      <td>C0001</td>\n",
       "      <td>A007</td>\n",
       "      <td>2020-06-15 09:32:00</td>\n",
       "      <td>Account Balance</td>\n",
       "      <td>1</td>\n",
       "      <td>2020-04-20 09:50:00</td>\n",
       "      <td>25</td>\n",
       "      <td>15</td>\n",
       "      <td>0</td>\n",
       "      <td>6</td>\n",
       "      <td>09:32:00</td>\n",
       "    </tr>\n",
       "    <tr>\n",
       "      <th>186</th>\n",
       "      <td>C0001</td>\n",
       "      <td>A004</td>\n",
       "      <td>2020-07-16 08:51:00</td>\n",
       "      <td>Account Balance</td>\n",
       "      <td>4</td>\n",
       "      <td>2020-06-15 09:32:00</td>\n",
       "      <td>29</td>\n",
       "      <td>16</td>\n",
       "      <td>3</td>\n",
       "      <td>7</td>\n",
       "      <td>08:51:00</td>\n",
       "    </tr>\n",
       "    <tr>\n",
       "      <th>448</th>\n",
       "      <td>C0002</td>\n",
       "      <td>A010</td>\n",
       "      <td>2020-05-11 09:14:00</td>\n",
       "      <td>Account Balance</td>\n",
       "      <td>5</td>\n",
       "      <td>0</td>\n",
       "      <td>20</td>\n",
       "      <td>11</td>\n",
       "      <td>0</td>\n",
       "      <td>5</td>\n",
       "      <td>09:14:00</td>\n",
       "    </tr>\n",
       "    <tr>\n",
       "      <th>486</th>\n",
       "      <td>C0002</td>\n",
       "      <td>A007</td>\n",
       "      <td>2020-05-25 09:53:00</td>\n",
       "      <td>Cannot login</td>\n",
       "      <td>2</td>\n",
       "      <td>2020-05-11 09:14:00</td>\n",
       "      <td>22</td>\n",
       "      <td>25</td>\n",
       "      <td>0</td>\n",
       "      <td>5</td>\n",
       "      <td>09:53:00</td>\n",
       "    </tr>\n",
       "    <tr>\n",
       "      <th>503</th>\n",
       "      <td>C0002</td>\n",
       "      <td>A007</td>\n",
       "      <td>2020-07-08 09:49:00</td>\n",
       "      <td>Cannot login</td>\n",
       "      <td>1</td>\n",
       "      <td>2020-05-25 09:53:00</td>\n",
       "      <td>28</td>\n",
       "      <td>8</td>\n",
       "      <td>2</td>\n",
       "      <td>7</td>\n",
       "      <td>09:49:00</td>\n",
       "    </tr>\n",
       "    <tr>\n",
       "      <th>517</th>\n",
       "      <td>C0002</td>\n",
       "      <td>A007</td>\n",
       "      <td>2020-07-17 09:03:00</td>\n",
       "      <td>Cannot login</td>\n",
       "      <td>1</td>\n",
       "      <td>2020-07-08 09:49:00</td>\n",
       "      <td>29</td>\n",
       "      <td>17</td>\n",
       "      <td>4</td>\n",
       "      <td>7</td>\n",
       "      <td>09:03:00</td>\n",
       "    </tr>\n",
       "    <tr>\n",
       "      <th>419</th>\n",
       "      <td>C0002</td>\n",
       "      <td>A008</td>\n",
       "      <td>2020-07-20 09:20:00</td>\n",
       "      <td>Account Balance</td>\n",
       "      <td>4</td>\n",
       "      <td>2020-07-17 09:03:00</td>\n",
       "      <td>30</td>\n",
       "      <td>20</td>\n",
       "      <td>0</td>\n",
       "      <td>7</td>\n",
       "      <td>09:20:00</td>\n",
       "    </tr>\n",
       "    <tr>\n",
       "      <th>344</th>\n",
       "      <td>C0002</td>\n",
       "      <td>A002</td>\n",
       "      <td>2020-07-27 08:00:00</td>\n",
       "      <td>Cannot login</td>\n",
       "      <td>4</td>\n",
       "      <td>2020-07-20 09:20:00</td>\n",
       "      <td>31</td>\n",
       "      <td>27</td>\n",
       "      <td>0</td>\n",
       "      <td>7</td>\n",
       "      <td>08:00:00</td>\n",
       "    </tr>\n",
       "    <tr>\n",
       "      <th>495</th>\n",
       "      <td>C0003</td>\n",
       "      <td>A007</td>\n",
       "      <td>2020-04-23 08:01:00</td>\n",
       "      <td>Cannot login</td>\n",
       "      <td>2</td>\n",
       "      <td>0</td>\n",
       "      <td>17</td>\n",
       "      <td>23</td>\n",
       "      <td>3</td>\n",
       "      <td>4</td>\n",
       "      <td>08:01:00</td>\n",
       "    </tr>\n",
       "    <tr>\n",
       "      <th>478</th>\n",
       "      <td>C0003</td>\n",
       "      <td>A007</td>\n",
       "      <td>2020-05-24 08:57:00</td>\n",
       "      <td>Account Balance</td>\n",
       "      <td>1</td>\n",
       "      <td>2020-04-23 08:01:00</td>\n",
       "      <td>21</td>\n",
       "      <td>24</td>\n",
       "      <td>6</td>\n",
       "      <td>5</td>\n",
       "      <td>08:57:00</td>\n",
       "    </tr>\n",
       "    <tr>\n",
       "      <th>248</th>\n",
       "      <td>C0003</td>\n",
       "      <td>A002</td>\n",
       "      <td>2020-05-28 08:15:00</td>\n",
       "      <td>Account Balance</td>\n",
       "      <td>5</td>\n",
       "      <td>2020-05-24 08:57:00</td>\n",
       "      <td>22</td>\n",
       "      <td>28</td>\n",
       "      <td>3</td>\n",
       "      <td>5</td>\n",
       "      <td>08:15:00</td>\n",
       "    </tr>\n",
       "    <tr>\n",
       "      <th>692</th>\n",
       "      <td>C0003</td>\n",
       "      <td>A007</td>\n",
       "      <td>2020-06-02 08:46:00</td>\n",
       "      <td>Cannot login</td>\n",
       "      <td>2</td>\n",
       "      <td>2020-05-28 08:15:00</td>\n",
       "      <td>23</td>\n",
       "      <td>2</td>\n",
       "      <td>1</td>\n",
       "      <td>6</td>\n",
       "      <td>08:46:00</td>\n",
       "    </tr>\n",
       "    <tr>\n",
       "      <th>285</th>\n",
       "      <td>C0003</td>\n",
       "      <td>A010</td>\n",
       "      <td>2020-06-22 08:43:00</td>\n",
       "      <td>Cannot login</td>\n",
       "      <td>3</td>\n",
       "      <td>2020-06-02 08:46:00</td>\n",
       "      <td>26</td>\n",
       "      <td>22</td>\n",
       "      <td>0</td>\n",
       "      <td>6</td>\n",
       "      <td>08:43:00</td>\n",
       "    </tr>\n",
       "    <tr>\n",
       "      <th>170</th>\n",
       "      <td>C0004</td>\n",
       "      <td>A004</td>\n",
       "      <td>2020-04-06 08:44:00</td>\n",
       "      <td>Account Balance</td>\n",
       "      <td>4</td>\n",
       "      <td>0</td>\n",
       "      <td>15</td>\n",
       "      <td>6</td>\n",
       "      <td>0</td>\n",
       "      <td>4</td>\n",
       "      <td>08:44:00</td>\n",
       "    </tr>\n",
       "    <tr>\n",
       "      <th>94</th>\n",
       "      <td>C0004</td>\n",
       "      <td>A005</td>\n",
       "      <td>2020-04-11 08:12:00</td>\n",
       "      <td>Account Balance</td>\n",
       "      <td>5</td>\n",
       "      <td>2020-04-06 08:44:00</td>\n",
       "      <td>15</td>\n",
       "      <td>11</td>\n",
       "      <td>5</td>\n",
       "      <td>4</td>\n",
       "      <td>08:12:00</td>\n",
       "    </tr>\n",
       "    <tr>\n",
       "      <th>587</th>\n",
       "      <td>C0004</td>\n",
       "      <td>A009</td>\n",
       "      <td>2020-04-18 09:03:00</td>\n",
       "      <td>Account Balance</td>\n",
       "      <td>5</td>\n",
       "      <td>2020-04-11 08:12:00</td>\n",
       "      <td>16</td>\n",
       "      <td>18</td>\n",
       "      <td>5</td>\n",
       "      <td>4</td>\n",
       "      <td>09:03:00</td>\n",
       "    </tr>\n",
       "    <tr>\n",
       "      <th>598</th>\n",
       "      <td>C0004</td>\n",
       "      <td>A006</td>\n",
       "      <td>2020-05-31 08:12:00</td>\n",
       "      <td>Credit declined</td>\n",
       "      <td>2</td>\n",
       "      <td>2020-04-18 09:03:00</td>\n",
       "      <td>22</td>\n",
       "      <td>31</td>\n",
       "      <td>6</td>\n",
       "      <td>5</td>\n",
       "      <td>08:12:00</td>\n",
       "    </tr>\n",
       "    <tr>\n",
       "      <th>89</th>\n",
       "      <td>C0004</td>\n",
       "      <td>A008</td>\n",
       "      <td>2020-05-31 09:33:00</td>\n",
       "      <td>Account Balance</td>\n",
       "      <td>3</td>\n",
       "      <td>2020-05-31 08:12:00</td>\n",
       "      <td>22</td>\n",
       "      <td>31</td>\n",
       "      <td>6</td>\n",
       "      <td>5</td>\n",
       "      <td>09:33:00</td>\n",
       "    </tr>\n",
       "  </tbody>\n",
       "</table>\n",
       "</div>"
      ],
      "text/plain": [
       "    CustomerID AgentID            CallDate      CallPurpose  Satisfaction  \\\n",
       "410      C0001    A007 2020-04-16 09:58:00  Account Balance             3   \n",
       "97       C0001    A001 2020-04-20 09:50:00  Account Balance             3   \n",
       "316      C0001    A007 2020-06-15 09:32:00  Account Balance             1   \n",
       "186      C0001    A004 2020-07-16 08:51:00  Account Balance             4   \n",
       "448      C0002    A010 2020-05-11 09:14:00  Account Balance             5   \n",
       "486      C0002    A007 2020-05-25 09:53:00     Cannot login             2   \n",
       "503      C0002    A007 2020-07-08 09:49:00     Cannot login             1   \n",
       "517      C0002    A007 2020-07-17 09:03:00     Cannot login             1   \n",
       "419      C0002    A008 2020-07-20 09:20:00  Account Balance             4   \n",
       "344      C0002    A002 2020-07-27 08:00:00     Cannot login             4   \n",
       "495      C0003    A007 2020-04-23 08:01:00     Cannot login             2   \n",
       "478      C0003    A007 2020-05-24 08:57:00  Account Balance             1   \n",
       "248      C0003    A002 2020-05-28 08:15:00  Account Balance             5   \n",
       "692      C0003    A007 2020-06-02 08:46:00     Cannot login             2   \n",
       "285      C0003    A010 2020-06-22 08:43:00     Cannot login             3   \n",
       "170      C0004    A004 2020-04-06 08:44:00  Account Balance             4   \n",
       "94       C0004    A005 2020-04-11 08:12:00  Account Balance             5   \n",
       "587      C0004    A009 2020-04-18 09:03:00  Account Balance             5   \n",
       "598      C0004    A006 2020-05-31 08:12:00  Credit declined             2   \n",
       "89       C0004    A008 2020-05-31 09:33:00  Account Balance             3   \n",
       "\n",
       "     first_call_customer  Week  Day  WeekDay  Month      Time  \n",
       "410                    0    16   16        3      4  09:58:00  \n",
       "97   2020-04-16 09:58:00    17   20        0      4  09:50:00  \n",
       "316  2020-04-20 09:50:00    25   15        0      6  09:32:00  \n",
       "186  2020-06-15 09:32:00    29   16        3      7  08:51:00  \n",
       "448                    0    20   11        0      5  09:14:00  \n",
       "486  2020-05-11 09:14:00    22   25        0      5  09:53:00  \n",
       "503  2020-05-25 09:53:00    28    8        2      7  09:49:00  \n",
       "517  2020-07-08 09:49:00    29   17        4      7  09:03:00  \n",
       "419  2020-07-17 09:03:00    30   20        0      7  09:20:00  \n",
       "344  2020-07-20 09:20:00    31   27        0      7  08:00:00  \n",
       "495                    0    17   23        3      4  08:01:00  \n",
       "478  2020-04-23 08:01:00    21   24        6      5  08:57:00  \n",
       "248  2020-05-24 08:57:00    22   28        3      5  08:15:00  \n",
       "692  2020-05-28 08:15:00    23    2        1      6  08:46:00  \n",
       "285  2020-06-02 08:46:00    26   22        0      6  08:43:00  \n",
       "170                    0    15    6        0      4  08:44:00  \n",
       "94   2020-04-06 08:44:00    15   11        5      4  08:12:00  \n",
       "587  2020-04-11 08:12:00    16   18        5      4  09:03:00  \n",
       "598  2020-04-18 09:03:00    22   31        6      5  08:12:00  \n",
       "89   2020-05-31 08:12:00    22   31        6      5  09:33:00  "
      ]
     },
     "execution_count": 24,
     "metadata": {},
     "output_type": "execute_result"
    }
   ],
   "source": [
    "# Data Prepration for model - Sorting value as per the customer ID\n",
    "df.sort_values(['CustomerID','CallDate'],inplace=True)\n",
    "df.head(20)"
   ]
  },
  {
   "cell_type": "code",
   "execution_count": 25,
   "metadata": {},
   "outputs": [],
   "source": [
    "df['next_call_date']=df.groupby(['CustomerID'])['CallDate'].shift(1)"
   ]
  },
  {
   "cell_type": "code",
   "execution_count": 26,
   "metadata": {},
   "outputs": [],
   "source": [
    "df['days_diff']  =(df['CallDate']-df['next_call_date'])/ np.timedelta64(1, 'D')"
   ]
  },
  {
   "cell_type": "code",
   "execution_count": 27,
   "metadata": {},
   "outputs": [],
   "source": [
    "df['days_from_start'] = df.sort_values(['CustomerID','CallDate']).groupby('CustomerID')['days_diff'].cumsum()"
   ]
  },
  {
   "cell_type": "code",
   "execution_count": 28,
   "metadata": {},
   "outputs": [
    {
     "data": {
      "text/html": [
       "<div>\n",
       "<style scoped>\n",
       "    .dataframe tbody tr th:only-of-type {\n",
       "        vertical-align: middle;\n",
       "    }\n",
       "\n",
       "    .dataframe tbody tr th {\n",
       "        vertical-align: top;\n",
       "    }\n",
       "\n",
       "    .dataframe thead th {\n",
       "        text-align: right;\n",
       "    }\n",
       "</style>\n",
       "<table border=\"1\" class=\"dataframe\">\n",
       "  <thead>\n",
       "    <tr style=\"text-align: right;\">\n",
       "      <th></th>\n",
       "      <th>CustomerID</th>\n",
       "      <th>AgentID</th>\n",
       "      <th>CallDate</th>\n",
       "      <th>CallPurpose</th>\n",
       "      <th>Satisfaction</th>\n",
       "      <th>first_call_customer</th>\n",
       "      <th>Week</th>\n",
       "      <th>Day</th>\n",
       "      <th>WeekDay</th>\n",
       "      <th>Month</th>\n",
       "      <th>Time</th>\n",
       "      <th>next_call_date</th>\n",
       "      <th>days_diff</th>\n",
       "      <th>days_from_start</th>\n",
       "    </tr>\n",
       "  </thead>\n",
       "  <tbody>\n",
       "    <tr>\n",
       "      <th>410</th>\n",
       "      <td>C0001</td>\n",
       "      <td>A007</td>\n",
       "      <td>2020-04-16 09:58:00</td>\n",
       "      <td>Account Balance</td>\n",
       "      <td>3</td>\n",
       "      <td>0</td>\n",
       "      <td>16</td>\n",
       "      <td>16</td>\n",
       "      <td>3</td>\n",
       "      <td>4</td>\n",
       "      <td>09:58:00</td>\n",
       "      <td>NaT</td>\n",
       "      <td>NaN</td>\n",
       "      <td>NaN</td>\n",
       "    </tr>\n",
       "    <tr>\n",
       "      <th>97</th>\n",
       "      <td>C0001</td>\n",
       "      <td>A001</td>\n",
       "      <td>2020-04-20 09:50:00</td>\n",
       "      <td>Account Balance</td>\n",
       "      <td>3</td>\n",
       "      <td>2020-04-16 09:58:00</td>\n",
       "      <td>17</td>\n",
       "      <td>20</td>\n",
       "      <td>0</td>\n",
       "      <td>4</td>\n",
       "      <td>09:50:00</td>\n",
       "      <td>2020-04-16 09:58:00</td>\n",
       "      <td>3.994444</td>\n",
       "      <td>3.994444</td>\n",
       "    </tr>\n",
       "    <tr>\n",
       "      <th>316</th>\n",
       "      <td>C0001</td>\n",
       "      <td>A007</td>\n",
       "      <td>2020-06-15 09:32:00</td>\n",
       "      <td>Account Balance</td>\n",
       "      <td>1</td>\n",
       "      <td>2020-04-20 09:50:00</td>\n",
       "      <td>25</td>\n",
       "      <td>15</td>\n",
       "      <td>0</td>\n",
       "      <td>6</td>\n",
       "      <td>09:32:00</td>\n",
       "      <td>2020-04-20 09:50:00</td>\n",
       "      <td>55.987500</td>\n",
       "      <td>59.981944</td>\n",
       "    </tr>\n",
       "    <tr>\n",
       "      <th>186</th>\n",
       "      <td>C0001</td>\n",
       "      <td>A004</td>\n",
       "      <td>2020-07-16 08:51:00</td>\n",
       "      <td>Account Balance</td>\n",
       "      <td>4</td>\n",
       "      <td>2020-06-15 09:32:00</td>\n",
       "      <td>29</td>\n",
       "      <td>16</td>\n",
       "      <td>3</td>\n",
       "      <td>7</td>\n",
       "      <td>08:51:00</td>\n",
       "      <td>2020-06-15 09:32:00</td>\n",
       "      <td>30.971528</td>\n",
       "      <td>90.953472</td>\n",
       "    </tr>\n",
       "    <tr>\n",
       "      <th>448</th>\n",
       "      <td>C0002</td>\n",
       "      <td>A010</td>\n",
       "      <td>2020-05-11 09:14:00</td>\n",
       "      <td>Account Balance</td>\n",
       "      <td>5</td>\n",
       "      <td>0</td>\n",
       "      <td>20</td>\n",
       "      <td>11</td>\n",
       "      <td>0</td>\n",
       "      <td>5</td>\n",
       "      <td>09:14:00</td>\n",
       "      <td>NaT</td>\n",
       "      <td>NaN</td>\n",
       "      <td>NaN</td>\n",
       "    </tr>\n",
       "    <tr>\n",
       "      <th>486</th>\n",
       "      <td>C0002</td>\n",
       "      <td>A007</td>\n",
       "      <td>2020-05-25 09:53:00</td>\n",
       "      <td>Cannot login</td>\n",
       "      <td>2</td>\n",
       "      <td>2020-05-11 09:14:00</td>\n",
       "      <td>22</td>\n",
       "      <td>25</td>\n",
       "      <td>0</td>\n",
       "      <td>5</td>\n",
       "      <td>09:53:00</td>\n",
       "      <td>2020-05-11 09:14:00</td>\n",
       "      <td>14.027083</td>\n",
       "      <td>14.027083</td>\n",
       "    </tr>\n",
       "    <tr>\n",
       "      <th>503</th>\n",
       "      <td>C0002</td>\n",
       "      <td>A007</td>\n",
       "      <td>2020-07-08 09:49:00</td>\n",
       "      <td>Cannot login</td>\n",
       "      <td>1</td>\n",
       "      <td>2020-05-25 09:53:00</td>\n",
       "      <td>28</td>\n",
       "      <td>8</td>\n",
       "      <td>2</td>\n",
       "      <td>7</td>\n",
       "      <td>09:49:00</td>\n",
       "      <td>2020-05-25 09:53:00</td>\n",
       "      <td>43.997222</td>\n",
       "      <td>58.024306</td>\n",
       "    </tr>\n",
       "    <tr>\n",
       "      <th>517</th>\n",
       "      <td>C0002</td>\n",
       "      <td>A007</td>\n",
       "      <td>2020-07-17 09:03:00</td>\n",
       "      <td>Cannot login</td>\n",
       "      <td>1</td>\n",
       "      <td>2020-07-08 09:49:00</td>\n",
       "      <td>29</td>\n",
       "      <td>17</td>\n",
       "      <td>4</td>\n",
       "      <td>7</td>\n",
       "      <td>09:03:00</td>\n",
       "      <td>2020-07-08 09:49:00</td>\n",
       "      <td>8.968056</td>\n",
       "      <td>66.992361</td>\n",
       "    </tr>\n",
       "    <tr>\n",
       "      <th>419</th>\n",
       "      <td>C0002</td>\n",
       "      <td>A008</td>\n",
       "      <td>2020-07-20 09:20:00</td>\n",
       "      <td>Account Balance</td>\n",
       "      <td>4</td>\n",
       "      <td>2020-07-17 09:03:00</td>\n",
       "      <td>30</td>\n",
       "      <td>20</td>\n",
       "      <td>0</td>\n",
       "      <td>7</td>\n",
       "      <td>09:20:00</td>\n",
       "      <td>2020-07-17 09:03:00</td>\n",
       "      <td>3.011806</td>\n",
       "      <td>70.004167</td>\n",
       "    </tr>\n",
       "    <tr>\n",
       "      <th>344</th>\n",
       "      <td>C0002</td>\n",
       "      <td>A002</td>\n",
       "      <td>2020-07-27 08:00:00</td>\n",
       "      <td>Cannot login</td>\n",
       "      <td>4</td>\n",
       "      <td>2020-07-20 09:20:00</td>\n",
       "      <td>31</td>\n",
       "      <td>27</td>\n",
       "      <td>0</td>\n",
       "      <td>7</td>\n",
       "      <td>08:00:00</td>\n",
       "      <td>2020-07-20 09:20:00</td>\n",
       "      <td>6.944444</td>\n",
       "      <td>76.948611</td>\n",
       "    </tr>\n",
       "  </tbody>\n",
       "</table>\n",
       "</div>"
      ],
      "text/plain": [
       "    CustomerID AgentID            CallDate      CallPurpose  Satisfaction  \\\n",
       "410      C0001    A007 2020-04-16 09:58:00  Account Balance             3   \n",
       "97       C0001    A001 2020-04-20 09:50:00  Account Balance             3   \n",
       "316      C0001    A007 2020-06-15 09:32:00  Account Balance             1   \n",
       "186      C0001    A004 2020-07-16 08:51:00  Account Balance             4   \n",
       "448      C0002    A010 2020-05-11 09:14:00  Account Balance             5   \n",
       "486      C0002    A007 2020-05-25 09:53:00     Cannot login             2   \n",
       "503      C0002    A007 2020-07-08 09:49:00     Cannot login             1   \n",
       "517      C0002    A007 2020-07-17 09:03:00     Cannot login             1   \n",
       "419      C0002    A008 2020-07-20 09:20:00  Account Balance             4   \n",
       "344      C0002    A002 2020-07-27 08:00:00     Cannot login             4   \n",
       "\n",
       "     first_call_customer  Week  Day  WeekDay  Month      Time  \\\n",
       "410                    0    16   16        3      4  09:58:00   \n",
       "97   2020-04-16 09:58:00    17   20        0      4  09:50:00   \n",
       "316  2020-04-20 09:50:00    25   15        0      6  09:32:00   \n",
       "186  2020-06-15 09:32:00    29   16        3      7  08:51:00   \n",
       "448                    0    20   11        0      5  09:14:00   \n",
       "486  2020-05-11 09:14:00    22   25        0      5  09:53:00   \n",
       "503  2020-05-25 09:53:00    28    8        2      7  09:49:00   \n",
       "517  2020-07-08 09:49:00    29   17        4      7  09:03:00   \n",
       "419  2020-07-17 09:03:00    30   20        0      7  09:20:00   \n",
       "344  2020-07-20 09:20:00    31   27        0      7  08:00:00   \n",
       "\n",
       "         next_call_date  days_diff  days_from_start  \n",
       "410                 NaT        NaN              NaN  \n",
       "97  2020-04-16 09:58:00   3.994444         3.994444  \n",
       "316 2020-04-20 09:50:00  55.987500        59.981944  \n",
       "186 2020-06-15 09:32:00  30.971528        90.953472  \n",
       "448                 NaT        NaN              NaN  \n",
       "486 2020-05-11 09:14:00  14.027083        14.027083  \n",
       "503 2020-05-25 09:53:00  43.997222        58.024306  \n",
       "517 2020-07-08 09:49:00   8.968056        66.992361  \n",
       "419 2020-07-17 09:03:00   3.011806        70.004167  \n",
       "344 2020-07-20 09:20:00   6.944444        76.948611  "
      ]
     },
     "execution_count": 28,
     "metadata": {},
     "output_type": "execute_result"
    }
   ],
   "source": [
    "df.head(10)"
   ]
  },
  {
   "cell_type": "code",
   "execution_count": 29,
   "metadata": {},
   "outputs": [],
   "source": [
    "df.fillna(0,inplace=True)"
   ]
  },
  {
   "cell_type": "code",
   "execution_count": 30,
   "metadata": {},
   "outputs": [
    {
     "data": {
      "text/html": [
       "<div>\n",
       "<style scoped>\n",
       "    .dataframe tbody tr th:only-of-type {\n",
       "        vertical-align: middle;\n",
       "    }\n",
       "\n",
       "    .dataframe tbody tr th {\n",
       "        vertical-align: top;\n",
       "    }\n",
       "\n",
       "    .dataframe thead th {\n",
       "        text-align: right;\n",
       "    }\n",
       "</style>\n",
       "<table border=\"1\" class=\"dataframe\">\n",
       "  <thead>\n",
       "    <tr style=\"text-align: right;\">\n",
       "      <th></th>\n",
       "      <th>CustomerID</th>\n",
       "      <th>AgentID</th>\n",
       "      <th>CallDate</th>\n",
       "      <th>CallPurpose</th>\n",
       "      <th>Satisfaction</th>\n",
       "      <th>first_call_customer</th>\n",
       "      <th>Week</th>\n",
       "      <th>Day</th>\n",
       "      <th>WeekDay</th>\n",
       "      <th>Month</th>\n",
       "      <th>Time</th>\n",
       "      <th>next_call_date</th>\n",
       "      <th>days_diff</th>\n",
       "      <th>days_from_start</th>\n",
       "    </tr>\n",
       "  </thead>\n",
       "  <tbody>\n",
       "    <tr>\n",
       "      <th>410</th>\n",
       "      <td>C0001</td>\n",
       "      <td>A007</td>\n",
       "      <td>2020-04-16 09:58:00</td>\n",
       "      <td>Account Balance</td>\n",
       "      <td>3</td>\n",
       "      <td>0</td>\n",
       "      <td>16</td>\n",
       "      <td>16</td>\n",
       "      <td>3</td>\n",
       "      <td>4</td>\n",
       "      <td>09:58:00</td>\n",
       "      <td>0</td>\n",
       "      <td>0.000000</td>\n",
       "      <td>0.000000</td>\n",
       "    </tr>\n",
       "    <tr>\n",
       "      <th>97</th>\n",
       "      <td>C0001</td>\n",
       "      <td>A001</td>\n",
       "      <td>2020-04-20 09:50:00</td>\n",
       "      <td>Account Balance</td>\n",
       "      <td>3</td>\n",
       "      <td>2020-04-16 09:58:00</td>\n",
       "      <td>17</td>\n",
       "      <td>20</td>\n",
       "      <td>0</td>\n",
       "      <td>4</td>\n",
       "      <td>09:50:00</td>\n",
       "      <td>2020-04-16 09:58:00</td>\n",
       "      <td>3.994444</td>\n",
       "      <td>3.994444</td>\n",
       "    </tr>\n",
       "    <tr>\n",
       "      <th>316</th>\n",
       "      <td>C0001</td>\n",
       "      <td>A007</td>\n",
       "      <td>2020-06-15 09:32:00</td>\n",
       "      <td>Account Balance</td>\n",
       "      <td>1</td>\n",
       "      <td>2020-04-20 09:50:00</td>\n",
       "      <td>25</td>\n",
       "      <td>15</td>\n",
       "      <td>0</td>\n",
       "      <td>6</td>\n",
       "      <td>09:32:00</td>\n",
       "      <td>2020-04-20 09:50:00</td>\n",
       "      <td>55.987500</td>\n",
       "      <td>59.981944</td>\n",
       "    </tr>\n",
       "    <tr>\n",
       "      <th>186</th>\n",
       "      <td>C0001</td>\n",
       "      <td>A004</td>\n",
       "      <td>2020-07-16 08:51:00</td>\n",
       "      <td>Account Balance</td>\n",
       "      <td>4</td>\n",
       "      <td>2020-06-15 09:32:00</td>\n",
       "      <td>29</td>\n",
       "      <td>16</td>\n",
       "      <td>3</td>\n",
       "      <td>7</td>\n",
       "      <td>08:51:00</td>\n",
       "      <td>2020-06-15 09:32:00</td>\n",
       "      <td>30.971528</td>\n",
       "      <td>90.953472</td>\n",
       "    </tr>\n",
       "    <tr>\n",
       "      <th>448</th>\n",
       "      <td>C0002</td>\n",
       "      <td>A010</td>\n",
       "      <td>2020-05-11 09:14:00</td>\n",
       "      <td>Account Balance</td>\n",
       "      <td>5</td>\n",
       "      <td>0</td>\n",
       "      <td>20</td>\n",
       "      <td>11</td>\n",
       "      <td>0</td>\n",
       "      <td>5</td>\n",
       "      <td>09:14:00</td>\n",
       "      <td>0</td>\n",
       "      <td>0.000000</td>\n",
       "      <td>0.000000</td>\n",
       "    </tr>\n",
       "    <tr>\n",
       "      <th>486</th>\n",
       "      <td>C0002</td>\n",
       "      <td>A007</td>\n",
       "      <td>2020-05-25 09:53:00</td>\n",
       "      <td>Cannot login</td>\n",
       "      <td>2</td>\n",
       "      <td>2020-05-11 09:14:00</td>\n",
       "      <td>22</td>\n",
       "      <td>25</td>\n",
       "      <td>0</td>\n",
       "      <td>5</td>\n",
       "      <td>09:53:00</td>\n",
       "      <td>2020-05-11 09:14:00</td>\n",
       "      <td>14.027083</td>\n",
       "      <td>14.027083</td>\n",
       "    </tr>\n",
       "    <tr>\n",
       "      <th>503</th>\n",
       "      <td>C0002</td>\n",
       "      <td>A007</td>\n",
       "      <td>2020-07-08 09:49:00</td>\n",
       "      <td>Cannot login</td>\n",
       "      <td>1</td>\n",
       "      <td>2020-05-25 09:53:00</td>\n",
       "      <td>28</td>\n",
       "      <td>8</td>\n",
       "      <td>2</td>\n",
       "      <td>7</td>\n",
       "      <td>09:49:00</td>\n",
       "      <td>2020-05-25 09:53:00</td>\n",
       "      <td>43.997222</td>\n",
       "      <td>58.024306</td>\n",
       "    </tr>\n",
       "    <tr>\n",
       "      <th>517</th>\n",
       "      <td>C0002</td>\n",
       "      <td>A007</td>\n",
       "      <td>2020-07-17 09:03:00</td>\n",
       "      <td>Cannot login</td>\n",
       "      <td>1</td>\n",
       "      <td>2020-07-08 09:49:00</td>\n",
       "      <td>29</td>\n",
       "      <td>17</td>\n",
       "      <td>4</td>\n",
       "      <td>7</td>\n",
       "      <td>09:03:00</td>\n",
       "      <td>2020-07-08 09:49:00</td>\n",
       "      <td>8.968056</td>\n",
       "      <td>66.992361</td>\n",
       "    </tr>\n",
       "    <tr>\n",
       "      <th>419</th>\n",
       "      <td>C0002</td>\n",
       "      <td>A008</td>\n",
       "      <td>2020-07-20 09:20:00</td>\n",
       "      <td>Account Balance</td>\n",
       "      <td>4</td>\n",
       "      <td>2020-07-17 09:03:00</td>\n",
       "      <td>30</td>\n",
       "      <td>20</td>\n",
       "      <td>0</td>\n",
       "      <td>7</td>\n",
       "      <td>09:20:00</td>\n",
       "      <td>2020-07-17 09:03:00</td>\n",
       "      <td>3.011806</td>\n",
       "      <td>70.004167</td>\n",
       "    </tr>\n",
       "    <tr>\n",
       "      <th>344</th>\n",
       "      <td>C0002</td>\n",
       "      <td>A002</td>\n",
       "      <td>2020-07-27 08:00:00</td>\n",
       "      <td>Cannot login</td>\n",
       "      <td>4</td>\n",
       "      <td>2020-07-20 09:20:00</td>\n",
       "      <td>31</td>\n",
       "      <td>27</td>\n",
       "      <td>0</td>\n",
       "      <td>7</td>\n",
       "      <td>08:00:00</td>\n",
       "      <td>2020-07-20 09:20:00</td>\n",
       "      <td>6.944444</td>\n",
       "      <td>76.948611</td>\n",
       "    </tr>\n",
       "  </tbody>\n",
       "</table>\n",
       "</div>"
      ],
      "text/plain": [
       "    CustomerID AgentID            CallDate      CallPurpose  Satisfaction  \\\n",
       "410      C0001    A007 2020-04-16 09:58:00  Account Balance             3   \n",
       "97       C0001    A001 2020-04-20 09:50:00  Account Balance             3   \n",
       "316      C0001    A007 2020-06-15 09:32:00  Account Balance             1   \n",
       "186      C0001    A004 2020-07-16 08:51:00  Account Balance             4   \n",
       "448      C0002    A010 2020-05-11 09:14:00  Account Balance             5   \n",
       "486      C0002    A007 2020-05-25 09:53:00     Cannot login             2   \n",
       "503      C0002    A007 2020-07-08 09:49:00     Cannot login             1   \n",
       "517      C0002    A007 2020-07-17 09:03:00     Cannot login             1   \n",
       "419      C0002    A008 2020-07-20 09:20:00  Account Balance             4   \n",
       "344      C0002    A002 2020-07-27 08:00:00     Cannot login             4   \n",
       "\n",
       "     first_call_customer  Week  Day  WeekDay  Month      Time  \\\n",
       "410                    0    16   16        3      4  09:58:00   \n",
       "97   2020-04-16 09:58:00    17   20        0      4  09:50:00   \n",
       "316  2020-04-20 09:50:00    25   15        0      6  09:32:00   \n",
       "186  2020-06-15 09:32:00    29   16        3      7  08:51:00   \n",
       "448                    0    20   11        0      5  09:14:00   \n",
       "486  2020-05-11 09:14:00    22   25        0      5  09:53:00   \n",
       "503  2020-05-25 09:53:00    28    8        2      7  09:49:00   \n",
       "517  2020-07-08 09:49:00    29   17        4      7  09:03:00   \n",
       "419  2020-07-17 09:03:00    30   20        0      7  09:20:00   \n",
       "344  2020-07-20 09:20:00    31   27        0      7  08:00:00   \n",
       "\n",
       "          next_call_date  days_diff  days_from_start  \n",
       "410                    0   0.000000         0.000000  \n",
       "97   2020-04-16 09:58:00   3.994444         3.994444  \n",
       "316  2020-04-20 09:50:00  55.987500        59.981944  \n",
       "186  2020-06-15 09:32:00  30.971528        90.953472  \n",
       "448                    0   0.000000         0.000000  \n",
       "486  2020-05-11 09:14:00  14.027083        14.027083  \n",
       "503  2020-05-25 09:53:00  43.997222        58.024306  \n",
       "517  2020-07-08 09:49:00   8.968056        66.992361  \n",
       "419  2020-07-17 09:03:00   3.011806        70.004167  \n",
       "344  2020-07-20 09:20:00   6.944444        76.948611  "
      ]
     },
     "execution_count": 30,
     "metadata": {},
     "output_type": "execute_result"
    }
   ],
   "source": [
    "df.head(10)"
   ]
  },
  {
   "cell_type": "code",
   "execution_count": 31,
   "metadata": {},
   "outputs": [
    {
     "data": {
      "text/plain": [
       "<seaborn.axisgrid.PairGrid at 0x1e1e8f8f8c8>"
      ]
     },
     "execution_count": 31,
     "metadata": {},
     "output_type": "execute_result"
    },
    {
     "data": {
      "image/png": "[encoded data removed]",
      "text/plain": [
       "<Figure size 479.625x360 with 6 Axes>"
      ]
     },
     "metadata": {
      "needs_background": "light"
     },
     "output_type": "display_data"
    }
   ],
   "source": [
    "sns.pairplot(df[['Satisfaction','days_from_start','CallPurpose']],hue='CallPurpose')"
   ]
  },
  {
   "cell_type": "code",
   "execution_count": 32,
   "metadata": {},
   "outputs": [
    {
     "data": {
      "text/html": [
       "<div>\n",
       "<style scoped>\n",
       "    .dataframe tbody tr th:only-of-type {\n",
       "        vertical-align: middle;\n",
       "    }\n",
       "\n",
       "    .dataframe tbody tr th {\n",
       "        vertical-align: top;\n",
       "    }\n",
       "\n",
       "    .dataframe thead th {\n",
       "        text-align: right;\n",
       "    }\n",
       "</style>\n",
       "<table border=\"1\" class=\"dataframe\">\n",
       "  <thead>\n",
       "    <tr style=\"text-align: right;\">\n",
       "      <th></th>\n",
       "      <th>Satisfaction</th>\n",
       "      <th>days_diff</th>\n",
       "      <th>days_from_start</th>\n",
       "    </tr>\n",
       "  </thead>\n",
       "  <tbody>\n",
       "    <tr>\n",
       "      <th>410</th>\n",
       "      <td>3</td>\n",
       "      <td>0.000000</td>\n",
       "      <td>0.000000</td>\n",
       "    </tr>\n",
       "    <tr>\n",
       "      <th>97</th>\n",
       "      <td>3</td>\n",
       "      <td>3.994444</td>\n",
       "      <td>3.994444</td>\n",
       "    </tr>\n",
       "    <tr>\n",
       "      <th>316</th>\n",
       "      <td>1</td>\n",
       "      <td>55.987500</td>\n",
       "      <td>59.981944</td>\n",
       "    </tr>\n",
       "    <tr>\n",
       "      <th>186</th>\n",
       "      <td>4</td>\n",
       "      <td>30.971528</td>\n",
       "      <td>90.953472</td>\n",
       "    </tr>\n",
       "    <tr>\n",
       "      <th>448</th>\n",
       "      <td>5</td>\n",
       "      <td>0.000000</td>\n",
       "      <td>0.000000</td>\n",
       "    </tr>\n",
       "    <tr>\n",
       "      <th>...</th>\n",
       "      <td>...</td>\n",
       "      <td>...</td>\n",
       "      <td>...</td>\n",
       "    </tr>\n",
       "    <tr>\n",
       "      <th>430</th>\n",
       "      <td>5</td>\n",
       "      <td>0.000000</td>\n",
       "      <td>0.000000</td>\n",
       "    </tr>\n",
       "    <tr>\n",
       "      <th>411</th>\n",
       "      <td>5</td>\n",
       "      <td>56.994444</td>\n",
       "      <td>56.994444</td>\n",
       "    </tr>\n",
       "    <tr>\n",
       "      <th>38</th>\n",
       "      <td>1</td>\n",
       "      <td>9.036806</td>\n",
       "      <td>66.031250</td>\n",
       "    </tr>\n",
       "    <tr>\n",
       "      <th>453</th>\n",
       "      <td>4</td>\n",
       "      <td>7.985417</td>\n",
       "      <td>74.016667</td>\n",
       "    </tr>\n",
       "    <tr>\n",
       "      <th>399</th>\n",
       "      <td>5</td>\n",
       "      <td>2.984722</td>\n",
       "      <td>77.001389</td>\n",
       "    </tr>\n",
       "  </tbody>\n",
       "</table>\n",
       "<p>700 rows × 3 columns</p>\n",
       "</div>"
      ],
      "text/plain": [
       "     Satisfaction  days_diff  days_from_start\n",
       "410             3   0.000000         0.000000\n",
       "97              3   3.994444         3.994444\n",
       "316             1  55.987500        59.981944\n",
       "186             4  30.971528        90.953472\n",
       "448             5   0.000000         0.000000\n",
       "..            ...        ...              ...\n",
       "430             5   0.000000         0.000000\n",
       "411             5  56.994444        56.994444\n",
       "38              1   9.036806        66.031250\n",
       "453             4   7.985417        74.016667\n",
       "399             5   2.984722        77.001389\n",
       "\n",
       "[700 rows x 3 columns]"
      ]
     },
     "execution_count": 32,
     "metadata": {},
     "output_type": "execute_result"
    }
   ],
   "source": [
    "df[['Satisfaction','days_diff','days_from_start']]"
   ]
  },
  {
   "cell_type": "code",
   "execution_count": 33,
   "metadata": {},
   "outputs": [
    {
     "data": {
      "text/html": [
       "<div>\n",
       "<style scoped>\n",
       "    .dataframe tbody tr th:only-of-type {\n",
       "        vertical-align: middle;\n",
       "    }\n",
       "\n",
       "    .dataframe tbody tr th {\n",
       "        vertical-align: top;\n",
       "    }\n",
       "\n",
       "    .dataframe thead th {\n",
       "        text-align: right;\n",
       "    }\n",
       "</style>\n",
       "<table border=\"1\" class=\"dataframe\">\n",
       "  <thead>\n",
       "    <tr style=\"text-align: right;\">\n",
       "      <th></th>\n",
       "      <th>CustomerID</th>\n",
       "      <th>AgentID</th>\n",
       "      <th>CallDate</th>\n",
       "      <th>CallPurpose</th>\n",
       "      <th>Satisfaction</th>\n",
       "      <th>first_call_customer</th>\n",
       "      <th>Week</th>\n",
       "      <th>Day</th>\n",
       "      <th>WeekDay</th>\n",
       "      <th>Month</th>\n",
       "      <th>Time</th>\n",
       "      <th>next_call_date</th>\n",
       "      <th>days_diff</th>\n",
       "      <th>days_from_start</th>\n",
       "    </tr>\n",
       "  </thead>\n",
       "  <tbody>\n",
       "    <tr>\n",
       "      <th>0</th>\n",
       "      <td>C0001</td>\n",
       "      <td>A007</td>\n",
       "      <td>2020-04-16 09:58:00</td>\n",
       "      <td>Account Balance</td>\n",
       "      <td>3</td>\n",
       "      <td>0</td>\n",
       "      <td>16</td>\n",
       "      <td>16</td>\n",
       "      <td>3</td>\n",
       "      <td>4</td>\n",
       "      <td>09:58:00</td>\n",
       "      <td>0</td>\n",
       "      <td>0.000000</td>\n",
       "      <td>0.000000</td>\n",
       "    </tr>\n",
       "    <tr>\n",
       "      <th>1</th>\n",
       "      <td>C0001</td>\n",
       "      <td>A001</td>\n",
       "      <td>2020-04-20 09:50:00</td>\n",
       "      <td>Account Balance</td>\n",
       "      <td>3</td>\n",
       "      <td>2020-04-16 09:58:00</td>\n",
       "      <td>17</td>\n",
       "      <td>20</td>\n",
       "      <td>0</td>\n",
       "      <td>4</td>\n",
       "      <td>09:50:00</td>\n",
       "      <td>2020-04-16 09:58:00</td>\n",
       "      <td>3.994444</td>\n",
       "      <td>3.994444</td>\n",
       "    </tr>\n",
       "    <tr>\n",
       "      <th>2</th>\n",
       "      <td>C0001</td>\n",
       "      <td>A007</td>\n",
       "      <td>2020-06-15 09:32:00</td>\n",
       "      <td>Account Balance</td>\n",
       "      <td>1</td>\n",
       "      <td>2020-04-20 09:50:00</td>\n",
       "      <td>25</td>\n",
       "      <td>15</td>\n",
       "      <td>0</td>\n",
       "      <td>6</td>\n",
       "      <td>09:32:00</td>\n",
       "      <td>2020-04-20 09:50:00</td>\n",
       "      <td>55.987500</td>\n",
       "      <td>59.981944</td>\n",
       "    </tr>\n",
       "    <tr>\n",
       "      <th>3</th>\n",
       "      <td>C0001</td>\n",
       "      <td>A004</td>\n",
       "      <td>2020-07-16 08:51:00</td>\n",
       "      <td>Account Balance</td>\n",
       "      <td>4</td>\n",
       "      <td>2020-06-15 09:32:00</td>\n",
       "      <td>29</td>\n",
       "      <td>16</td>\n",
       "      <td>3</td>\n",
       "      <td>7</td>\n",
       "      <td>08:51:00</td>\n",
       "      <td>2020-06-15 09:32:00</td>\n",
       "      <td>30.971528</td>\n",
       "      <td>90.953472</td>\n",
       "    </tr>\n",
       "    <tr>\n",
       "      <th>4</th>\n",
       "      <td>C0002</td>\n",
       "      <td>A010</td>\n",
       "      <td>2020-05-11 09:14:00</td>\n",
       "      <td>Account Balance</td>\n",
       "      <td>5</td>\n",
       "      <td>0</td>\n",
       "      <td>20</td>\n",
       "      <td>11</td>\n",
       "      <td>0</td>\n",
       "      <td>5</td>\n",
       "      <td>09:14:00</td>\n",
       "      <td>0</td>\n",
       "      <td>0.000000</td>\n",
       "      <td>0.000000</td>\n",
       "    </tr>\n",
       "    <tr>\n",
       "      <th>...</th>\n",
       "      <td>...</td>\n",
       "      <td>...</td>\n",
       "      <td>...</td>\n",
       "      <td>...</td>\n",
       "      <td>...</td>\n",
       "      <td>...</td>\n",
       "      <td>...</td>\n",
       "      <td>...</td>\n",
       "      <td>...</td>\n",
       "      <td>...</td>\n",
       "      <td>...</td>\n",
       "      <td>...</td>\n",
       "      <td>...</td>\n",
       "      <td>...</td>\n",
       "    </tr>\n",
       "    <tr>\n",
       "      <th>695</th>\n",
       "      <td>C0105</td>\n",
       "      <td>A001</td>\n",
       "      <td>2020-04-06 08:48:00</td>\n",
       "      <td>Account Balance</td>\n",
       "      <td>5</td>\n",
       "      <td>0</td>\n",
       "      <td>15</td>\n",
       "      <td>6</td>\n",
       "      <td>0</td>\n",
       "      <td>4</td>\n",
       "      <td>08:48:00</td>\n",
       "      <td>0</td>\n",
       "      <td>0.000000</td>\n",
       "      <td>0.000000</td>\n",
       "    </tr>\n",
       "    <tr>\n",
       "      <th>696</th>\n",
       "      <td>C0105</td>\n",
       "      <td>A005</td>\n",
       "      <td>2020-06-02 08:40:00</td>\n",
       "      <td>Account Balance</td>\n",
       "      <td>5</td>\n",
       "      <td>2020-04-06 08:48:00</td>\n",
       "      <td>23</td>\n",
       "      <td>2</td>\n",
       "      <td>1</td>\n",
       "      <td>6</td>\n",
       "      <td>08:40:00</td>\n",
       "      <td>2020-04-06 08:48:00</td>\n",
       "      <td>56.994444</td>\n",
       "      <td>56.994444</td>\n",
       "    </tr>\n",
       "    <tr>\n",
       "      <th>697</th>\n",
       "      <td>C0105</td>\n",
       "      <td>A007</td>\n",
       "      <td>2020-06-11 09:33:00</td>\n",
       "      <td>Cannot login</td>\n",
       "      <td>1</td>\n",
       "      <td>2020-06-02 08:40:00</td>\n",
       "      <td>24</td>\n",
       "      <td>11</td>\n",
       "      <td>3</td>\n",
       "      <td>6</td>\n",
       "      <td>09:33:00</td>\n",
       "      <td>2020-06-02 08:40:00</td>\n",
       "      <td>9.036806</td>\n",
       "      <td>66.031250</td>\n",
       "    </tr>\n",
       "    <tr>\n",
       "      <th>698</th>\n",
       "      <td>C0105</td>\n",
       "      <td>A009</td>\n",
       "      <td>2020-06-19 09:12:00</td>\n",
       "      <td>Account Balance</td>\n",
       "      <td>4</td>\n",
       "      <td>2020-06-11 09:33:00</td>\n",
       "      <td>25</td>\n",
       "      <td>19</td>\n",
       "      <td>4</td>\n",
       "      <td>6</td>\n",
       "      <td>09:12:00</td>\n",
       "      <td>2020-06-11 09:33:00</td>\n",
       "      <td>7.985417</td>\n",
       "      <td>74.016667</td>\n",
       "    </tr>\n",
       "    <tr>\n",
       "      <th>699</th>\n",
       "      <td>C0105</td>\n",
       "      <td>A002</td>\n",
       "      <td>2020-06-22 08:50:00</td>\n",
       "      <td>Account Balance</td>\n",
       "      <td>5</td>\n",
       "      <td>2020-06-19 09:12:00</td>\n",
       "      <td>26</td>\n",
       "      <td>22</td>\n",
       "      <td>0</td>\n",
       "      <td>6</td>\n",
       "      <td>08:50:00</td>\n",
       "      <td>2020-06-19 09:12:00</td>\n",
       "      <td>2.984722</td>\n",
       "      <td>77.001389</td>\n",
       "    </tr>\n",
       "  </tbody>\n",
       "</table>\n",
       "<p>700 rows × 14 columns</p>\n",
       "</div>"
      ],
      "text/plain": [
       "    CustomerID AgentID            CallDate      CallPurpose  Satisfaction  \\\n",
       "0        C0001    A007 2020-04-16 09:58:00  Account Balance             3   \n",
       "1        C0001    A001 2020-04-20 09:50:00  Account Balance             3   \n",
       "2        C0001    A007 2020-06-15 09:32:00  Account Balance             1   \n",
       "3        C0001    A004 2020-07-16 08:51:00  Account Balance             4   \n",
       "4        C0002    A010 2020-05-11 09:14:00  Account Balance             5   \n",
       "..         ...     ...                 ...              ...           ...   \n",
       "695      C0105    A001 2020-04-06 08:48:00  Account Balance             5   \n",
       "696      C0105    A005 2020-06-02 08:40:00  Account Balance             5   \n",
       "697      C0105    A007 2020-06-11 09:33:00     Cannot login             1   \n",
       "698      C0105    A009 2020-06-19 09:12:00  Account Balance             4   \n",
       "699      C0105    A002 2020-06-22 08:50:00  Account Balance             5   \n",
       "\n",
       "     first_call_customer  Week  Day  WeekDay  Month      Time  \\\n",
       "0                      0    16   16        3      4  09:58:00   \n",
       "1    2020-04-16 09:58:00    17   20        0      4  09:50:00   \n",
       "2    2020-04-20 09:50:00    25   15        0      6  09:32:00   \n",
       "3    2020-06-15 09:32:00    29   16        3      7  08:51:00   \n",
       "4                      0    20   11        0      5  09:14:00   \n",
       "..                   ...   ...  ...      ...    ...       ...   \n",
       "695                    0    15    6        0      4  08:48:00   \n",
       "696  2020-04-06 08:48:00    23    2        1      6  08:40:00   \n",
       "697  2020-06-02 08:40:00    24   11        3      6  09:33:00   \n",
       "698  2020-06-11 09:33:00    25   19        4      6  09:12:00   \n",
       "699  2020-06-19 09:12:00    26   22        0      6  08:50:00   \n",
       "\n",
       "          next_call_date  days_diff  days_from_start  \n",
       "0                      0   0.000000         0.000000  \n",
       "1    2020-04-16 09:58:00   3.994444         3.994444  \n",
       "2    2020-04-20 09:50:00  55.987500        59.981944  \n",
       "3    2020-06-15 09:32:00  30.971528        90.953472  \n",
       "4                      0   0.000000         0.000000  \n",
       "..                   ...        ...              ...  \n",
       "695                    0   0.000000         0.000000  \n",
       "696  2020-04-06 08:48:00  56.994444        56.994444  \n",
       "697  2020-06-02 08:40:00   9.036806        66.031250  \n",
       "698  2020-06-11 09:33:00   7.985417        74.016667  \n",
       "699  2020-06-19 09:12:00   2.984722        77.001389  \n",
       "\n",
       "[700 rows x 14 columns]"
      ]
     },
     "execution_count": 33,
     "metadata": {},
     "output_type": "execute_result"
    }
   ],
   "source": [
    "df.reset_index(drop=True,inplace=True)\n",
    "df"
   ]
  },
  {
   "cell_type": "markdown",
   "metadata": {},
   "source": [
    "Firstly, note that we have both categorical and numeric features as predictors.\n",
    "\n",
    "we need to encode the categorical variables into a standard format so that sklearn can understand them and build the tree. We'll do that using the LabelEncoder() class, which comes with sklearn.preprocessing. \n"
   ]
  },
  {
   "cell_type": "code",
   "execution_count": 34,
   "metadata": {},
   "outputs": [],
   "source": [
    "# apply Label encoder to df_categorical to convert categorical value to numeric\n",
    "from sklearn import preprocessing\n",
    "df_categorical = df[['CustomerID','AgentID','CallPurpose']]\n",
    "\n",
    "\n",
    "le = preprocessing.LabelEncoder()\n",
    "df_categorical = df_categorical.apply(le.fit_transform)"
   ]
  },
  {
   "cell_type": "code",
   "execution_count": 35,
   "metadata": {},
   "outputs": [
    {
     "name": "stdout",
     "output_type": "stream",
     "text": [
      "{'Account Balance': 0, 'Cannot login': 1, 'Credit declined': 2}\n"
     ]
    }
   ],
   "source": [
    "le_name_mapping = dict(zip(le.classes_, le.transform(le.classes_)))\n",
    "print(le_name_mapping)\n"
   ]
  },
  {
   "cell_type": "code",
   "execution_count": 36,
   "metadata": {},
   "outputs": [
    {
     "data": {
      "text/plain": [
       "(700, 3)"
      ]
     },
     "execution_count": 36,
     "metadata": {},
     "output_type": "execute_result"
    }
   ],
   "source": [
    "df_categorical.shape"
   ]
  },
  {
   "cell_type": "code",
   "execution_count": 37,
   "metadata": {},
   "outputs": [
    {
     "name": "stderr",
     "output_type": "stream",
     "text": [
      "C:\\Users\\7504468\\Anaconda3\\lib\\site-packages\\ipykernel_launcher.py:8: SettingWithCopyWarning: \n",
      "A value is trying to be set on a copy of a slice from a DataFrame.\n",
      "Try using .loc[row_indexer,col_indexer] = value instead\n",
      "\n",
      "See the caveats in the documentation: https://pandas.pydata.org/pandas-docs/stable/user_guide/indexing.html#returning-a-view-versus-a-copy\n",
      "  \n"
     ]
    }
   ],
   "source": [
    "# Apply Label encoder to df_categorical to convert categorical value to numeric.\n",
    "# Creating dictionary that will be used to map the code input the categorical value\n",
    "from sklearn import preprocessing\n",
    "Mapping=[]\n",
    "df_categorical = df[['CustomerID','AgentID','CallPurpose']]\n",
    "le = preprocessing.LabelEncoder()\n",
    "for i in range(0,df_categorical.shape[1]):\n",
    "        df_categorical[df_categorical.columns[i]] = le.fit_transform(df_categorical[df_categorical.columns[i]])\n",
    "        le_name_mapping = dict(zip(le.classes_, le.transform(le.classes_)))\n",
    "        Mapping.append(le_name_mapping)"
   ]
  },
  {
   "cell_type": "code",
   "execution_count": 38,
   "metadata": {},
   "outputs": [
    {
     "data": {
      "text/plain": [
       "[{'C0001': 0,\n",
       "  'C0002': 1,\n",
       "  'C0003': 2,\n",
       "  'C0004': 3,\n",
       "  'C0005': 4,\n",
       "  'C0006': 5,\n",
       "  'C0007': 6,\n",
       "  'C0008': 7,\n",
       "  'C0009': 8,\n",
       "  'C0010': 9,\n",
       "  'C0011': 10,\n",
       "  'C0012': 11,\n",
       "  'C0013': 12,\n",
       "  'C0014': 13,\n",
       "  'C0015': 14,\n",
       "  'C0016': 15,\n",
       "  'C0017': 16,\n",
       "  'C0018': 17,\n",
       "  'C0019': 18,\n",
       "  'C0020': 19,\n",
       "  'C0021': 20,\n",
       "  'C0022': 21,\n",
       "  'C0023': 22,\n",
       "  'C0024': 23,\n",
       "  'C0025': 24,\n",
       "  'C0026': 25,\n",
       "  'C0027': 26,\n",
       "  'C0028': 27,\n",
       "  'C0029': 28,\n",
       "  'C0030': 29,\n",
       "  'C0031': 30,\n",
       "  'C0032': 31,\n",
       "  'C0033': 32,\n",
       "  'C0034': 33,\n",
       "  'C0035': 34,\n",
       "  'C0036': 35,\n",
       "  'C0037': 36,\n",
       "  'C0038': 37,\n",
       "  'C0039': 38,\n",
       "  'C0040': 39,\n",
       "  'C0041': 40,\n",
       "  'C0042': 41,\n",
       "  'C0043': 42,\n",
       "  'C0044': 43,\n",
       "  'C0045': 44,\n",
       "  'C0046': 45,\n",
       "  'C0047': 46,\n",
       "  'C0048': 47,\n",
       "  'C0049': 48,\n",
       "  'C0050': 49,\n",
       "  'C0051': 50,\n",
       "  'C0052': 51,\n",
       "  'C0053': 52,\n",
       "  'C0054': 53,\n",
       "  'C0055': 54,\n",
       "  'C0056': 55,\n",
       "  'C0057': 56,\n",
       "  'C0058': 57,\n",
       "  'C0059': 58,\n",
       "  'C0060': 59,\n",
       "  'C0061': 60,\n",
       "  'C0062': 61,\n",
       "  'C0063': 62,\n",
       "  'C0064': 63,\n",
       "  'C0065': 64,\n",
       "  'C0066': 65,\n",
       "  'C0067': 66,\n",
       "  'C0068': 67,\n",
       "  'C0069': 68,\n",
       "  'C0070': 69,\n",
       "  'C0071': 70,\n",
       "  'C0072': 71,\n",
       "  'C0073': 72,\n",
       "  'C0074': 73,\n",
       "  'C0075': 74,\n",
       "  'C0076': 75,\n",
       "  'C0077': 76,\n",
       "  'C0078': 77,\n",
       "  'C0079': 78,\n",
       "  'C0080': 79,\n",
       "  'C0081': 80,\n",
       "  'C0082': 81,\n",
       "  'C0083': 82,\n",
       "  'C0084': 83,\n",
       "  'C0085': 84,\n",
       "  'C0086': 85,\n",
       "  'C0087': 86,\n",
       "  'C0088': 87,\n",
       "  'C0089': 88,\n",
       "  'C0090': 89,\n",
       "  'C0091': 90,\n",
       "  'C0092': 91,\n",
       "  'C0093': 92,\n",
       "  'C0094': 93,\n",
       "  'C0095': 94,\n",
       "  'C0096': 95,\n",
       "  'C0097': 96,\n",
       "  'C0098': 97,\n",
       "  'C0099': 98,\n",
       "  'C0100': 99,\n",
       "  'C0101': 100,\n",
       "  'C0102': 101,\n",
       "  'C0103': 102,\n",
       "  'C0104': 103,\n",
       "  'C0105': 104},\n",
       " {'A001': 0,\n",
       "  'A002': 1,\n",
       "  'A003': 2,\n",
       "  'A004': 3,\n",
       "  'A005': 4,\n",
       "  'A006': 5,\n",
       "  'A007': 6,\n",
       "  'A008': 7,\n",
       "  'A009': 8,\n",
       "  'A010': 9},\n",
       " {'Account Balance': 0, 'Cannot login': 1, 'Credit declined': 2}]"
      ]
     },
     "execution_count": 38,
     "metadata": {},
     "output_type": "execute_result"
    }
   ],
   "source": [
    "Mapping"
   ]
  },
  {
   "cell_type": "code",
   "execution_count": null,
   "metadata": {},
   "outputs": [],
   "source": []
  },
  {
   "cell_type": "code",
   "execution_count": 39,
   "metadata": {},
   "outputs": [],
   "source": [
    "new_df=pd.concat([df_categorical,df['Satisfaction'],df['Month']],axis=1)"
   ]
  },
  {
   "cell_type": "code",
   "execution_count": null,
   "metadata": {},
   "outputs": [],
   "source": []
  },
  {
   "cell_type": "code",
   "execution_count": 40,
   "metadata": {},
   "outputs": [],
   "source": [
    "# As we want to consider train on the data for the month of May ,June and July - for predicting purpose \n",
    "train=new_df[new_df['Month']<7].copy()"
   ]
  },
  {
   "cell_type": "code",
   "execution_count": null,
   "metadata": {},
   "outputs": [],
   "source": []
  },
  {
   "cell_type": "code",
   "execution_count": 41,
   "metadata": {},
   "outputs": [],
   "source": [
    "# As we want test the data we are considering for the month of August \n",
    "test=new_df[new_df['Month']==7].copy()"
   ]
  },
  {
   "cell_type": "code",
   "execution_count": 42,
   "metadata": {},
   "outputs": [
    {
     "data": {
      "text/html": [
       "<div>\n",
       "<style scoped>\n",
       "    .dataframe tbody tr th:only-of-type {\n",
       "        vertical-align: middle;\n",
       "    }\n",
       "\n",
       "    .dataframe tbody tr th {\n",
       "        vertical-align: top;\n",
       "    }\n",
       "\n",
       "    .dataframe thead th {\n",
       "        text-align: right;\n",
       "    }\n",
       "</style>\n",
       "<table border=\"1\" class=\"dataframe\">\n",
       "  <thead>\n",
       "    <tr style=\"text-align: right;\">\n",
       "      <th></th>\n",
       "      <th>CustomerID</th>\n",
       "      <th>AgentID</th>\n",
       "      <th>CallPurpose</th>\n",
       "      <th>Satisfaction</th>\n",
       "      <th>Month</th>\n",
       "    </tr>\n",
       "  </thead>\n",
       "  <tbody>\n",
       "    <tr>\n",
       "      <th>3</th>\n",
       "      <td>0</td>\n",
       "      <td>3</td>\n",
       "      <td>0</td>\n",
       "      <td>4</td>\n",
       "      <td>7</td>\n",
       "    </tr>\n",
       "    <tr>\n",
       "      <th>6</th>\n",
       "      <td>1</td>\n",
       "      <td>6</td>\n",
       "      <td>1</td>\n",
       "      <td>1</td>\n",
       "      <td>7</td>\n",
       "    </tr>\n",
       "    <tr>\n",
       "      <th>7</th>\n",
       "      <td>1</td>\n",
       "      <td>6</td>\n",
       "      <td>1</td>\n",
       "      <td>1</td>\n",
       "      <td>7</td>\n",
       "    </tr>\n",
       "    <tr>\n",
       "      <th>8</th>\n",
       "      <td>1</td>\n",
       "      <td>7</td>\n",
       "      <td>0</td>\n",
       "      <td>4</td>\n",
       "      <td>7</td>\n",
       "    </tr>\n",
       "    <tr>\n",
       "      <th>9</th>\n",
       "      <td>1</td>\n",
       "      <td>1</td>\n",
       "      <td>1</td>\n",
       "      <td>4</td>\n",
       "      <td>7</td>\n",
       "    </tr>\n",
       "  </tbody>\n",
       "</table>\n",
       "</div>"
      ],
      "text/plain": [
       "   CustomerID  AgentID  CallPurpose  Satisfaction  Month\n",
       "3           0        3            0             4      7\n",
       "6           1        6            1             1      7\n",
       "7           1        6            1             1      7\n",
       "8           1        7            0             4      7\n",
       "9           1        1            1             4      7"
      ]
     },
     "execution_count": 42,
     "metadata": {},
     "output_type": "execute_result"
    }
   ],
   "source": [
    "test.head()"
   ]
  },
  {
   "cell_type": "code",
   "execution_count": 43,
   "metadata": {},
   "outputs": [],
   "source": [
    "# Splitting the data into train and test\n",
    "X_train=train[['CustomerID','AgentID','Satisfaction']]\n",
    "X_test=test[['CustomerID','AgentID','Satisfaction']]\n",
    "y_train=train['CallPurpose']\n",
    "y_test=test['CallPurpose']"
   ]
  },
  {
   "cell_type": "code",
   "execution_count": 44,
   "metadata": {},
   "outputs": [
    {
     "data": {
      "text/html": [
       "<div>\n",
       "<style scoped>\n",
       "    .dataframe tbody tr th:only-of-type {\n",
       "        vertical-align: middle;\n",
       "    }\n",
       "\n",
       "    .dataframe tbody tr th {\n",
       "        vertical-align: top;\n",
       "    }\n",
       "\n",
       "    .dataframe thead th {\n",
       "        text-align: right;\n",
       "    }\n",
       "</style>\n",
       "<table border=\"1\" class=\"dataframe\">\n",
       "  <thead>\n",
       "    <tr style=\"text-align: right;\">\n",
       "      <th></th>\n",
       "      <th>CustomerID</th>\n",
       "      <th>AgentID</th>\n",
       "      <th>Satisfaction</th>\n",
       "    </tr>\n",
       "  </thead>\n",
       "  <tbody>\n",
       "    <tr>\n",
       "      <th>0</th>\n",
       "      <td>0</td>\n",
       "      <td>6</td>\n",
       "      <td>3</td>\n",
       "    </tr>\n",
       "    <tr>\n",
       "      <th>1</th>\n",
       "      <td>0</td>\n",
       "      <td>0</td>\n",
       "      <td>3</td>\n",
       "    </tr>\n",
       "    <tr>\n",
       "      <th>2</th>\n",
       "      <td>0</td>\n",
       "      <td>6</td>\n",
       "      <td>1</td>\n",
       "    </tr>\n",
       "    <tr>\n",
       "      <th>4</th>\n",
       "      <td>1</td>\n",
       "      <td>9</td>\n",
       "      <td>5</td>\n",
       "    </tr>\n",
       "    <tr>\n",
       "      <th>5</th>\n",
       "      <td>1</td>\n",
       "      <td>6</td>\n",
       "      <td>2</td>\n",
       "    </tr>\n",
       "  </tbody>\n",
       "</table>\n",
       "</div>"
      ],
      "text/plain": [
       "   CustomerID  AgentID  Satisfaction\n",
       "0           0        6             3\n",
       "1           0        0             3\n",
       "2           0        6             1\n",
       "4           1        9             5\n",
       "5           1        6             2"
      ]
     },
     "execution_count": 44,
     "metadata": {},
     "output_type": "execute_result"
    }
   ],
   "source": [
    "X_train.head()"
   ]
  },
  {
   "cell_type": "code",
   "execution_count": null,
   "metadata": {},
   "outputs": [],
   "source": []
  },
  {
   "cell_type": "code",
   "execution_count": null,
   "metadata": {},
   "outputs": [],
   "source": []
  },
  {
   "cell_type": "markdown",
   "metadata": {},
   "source": [
    "# Model Building :To predict purpose of customer call "
   ]
  },
  {
   "cell_type": "code",
   "execution_count": 45,
   "metadata": {},
   "outputs": [],
   "source": [
    "from sklearn.discriminant_analysis import LinearDiscriminantAnalysis\n",
    "from sklearn.ensemble import RandomForestClassifier\n",
    "from sklearn.neighbors import KNeighborsClassifier\n",
    "from sklearn.naive_bayes import GaussianNB\n",
    "from sklearn.tree import DecisionTreeClassifier\n",
    "from sklearn.svm import SVC\n",
    "from sklearn.linear_model import LogisticRegression\n",
    "\n",
    "# Importing classification report and confusion matrix from sklearn metrics\n",
    "from sklearn.metrics import classification_report, confusion_matrix, accuracy_score"
   ]
  },
  {
   "cell_type": "code",
   "execution_count": 46,
   "metadata": {},
   "outputs": [],
   "source": [
    "#Comparing Algorithms\n",
    "def scores(i):\n",
    "    lin = i()\n",
    "    lin.fit(X_train, y_train)\n",
    "    y_pred=lin.predict(X_test)\n",
    "    lin_r=accuracy_score(y_test, y_pred)\n",
    "    s.append(lin_r)"
   ]
  },
  {
   "cell_type": "code",
   "execution_count": null,
   "metadata": {},
   "outputs": [],
   "source": []
  },
  {
   "cell_type": "code",
   "execution_count": 47,
   "metadata": {},
   "outputs": [
    {
     "name": "stderr",
     "output_type": "stream",
     "text": [
      "C:\\Users\\7504468\\Anaconda3\\lib\\site-packages\\sklearn\\linear_model\\_logistic.py:940: ConvergenceWarning: lbfgs failed to converge (status=1):\n",
      "STOP: TOTAL NO. of ITERATIONS REACHED LIMIT.\n",
      "\n",
      "Increase the number of iterations (max_iter) or scale the data as shown in:\n",
      "    https://scikit-learn.org/stable/modules/preprocessing.html\n",
      "Please also refer to the documentation for alternative solver options:\n",
      "    https://scikit-learn.org/stable/modules/linear_model.html#logistic-regression\n",
      "  extra_warning_msg=_LOGISTIC_SOLVER_CONVERGENCE_MSG)\n"
     ]
    }
   ],
   "source": [
    "#Checking the scores by using our function\n",
    "algos=[LinearDiscriminantAnalysis,RandomForestClassifier,SVC,KNeighborsClassifier,GaussianNB,DecisionTreeClassifier,LogisticRegression]\n",
    "s=[]\n",
    "for i in algos:\n",
    "    scores(i)"
   ]
  },
  {
   "cell_type": "code",
   "execution_count": 48,
   "metadata": {},
   "outputs": [
    {
     "data": {
      "text/html": [
       "<div>\n",
       "<style scoped>\n",
       "    .dataframe tbody tr th:only-of-type {\n",
       "        vertical-align: middle;\n",
       "    }\n",
       "\n",
       "    .dataframe tbody tr th {\n",
       "        vertical-align: top;\n",
       "    }\n",
       "\n",
       "    .dataframe thead th {\n",
       "        text-align: right;\n",
       "    }\n",
       "</style>\n",
       "<table border=\"1\" class=\"dataframe\">\n",
       "  <thead>\n",
       "    <tr style=\"text-align: right;\">\n",
       "      <th></th>\n",
       "      <th>Method</th>\n",
       "      <th>Score</th>\n",
       "    </tr>\n",
       "  </thead>\n",
       "  <tbody>\n",
       "    <tr>\n",
       "      <th>0</th>\n",
       "      <td>LinearDiscriminantAnalysis</td>\n",
       "      <td>0.744186</td>\n",
       "    </tr>\n",
       "    <tr>\n",
       "      <th>4</th>\n",
       "      <td>GaussianNB</td>\n",
       "      <td>0.744186</td>\n",
       "    </tr>\n",
       "    <tr>\n",
       "      <th>6</th>\n",
       "      <td>LogisticRegression</td>\n",
       "      <td>0.744186</td>\n",
       "    </tr>\n",
       "    <tr>\n",
       "      <th>3</th>\n",
       "      <td>KNeighborsClassifier</td>\n",
       "      <td>0.651163</td>\n",
       "    </tr>\n",
       "    <tr>\n",
       "      <th>2</th>\n",
       "      <td>SVC</td>\n",
       "      <td>0.645349</td>\n",
       "    </tr>\n",
       "    <tr>\n",
       "      <th>1</th>\n",
       "      <td>RandomForestClassifier</td>\n",
       "      <td>0.552326</td>\n",
       "    </tr>\n",
       "    <tr>\n",
       "      <th>5</th>\n",
       "      <td>DecisionTreeClassifier</td>\n",
       "      <td>0.488372</td>\n",
       "    </tr>\n",
       "  </tbody>\n",
       "</table>\n",
       "</div>"
      ],
      "text/plain": [
       "                       Method     Score\n",
       "0  LinearDiscriminantAnalysis  0.744186\n",
       "4                  GaussianNB  0.744186\n",
       "6          LogisticRegression  0.744186\n",
       "3        KNeighborsClassifier  0.651163\n",
       "2                         SVC  0.645349\n",
       "1      RandomForestClassifier  0.552326\n",
       "5      DecisionTreeClassifier  0.488372"
      ]
     },
     "execution_count": 48,
     "metadata": {},
     "output_type": "execute_result"
    }
   ],
   "source": [
    "#Checking the score\n",
    "models = pd.DataFrame({\n",
    "    'Method': ['LinearDiscriminantAnalysis','RandomForestClassifier','SVC','KNeighborsClassifier','GaussianNB','DecisionTreeClassifier','LogisticRegression'],\n",
    "    'Score': [s[0],s[1],s[2],s[3],s[4],s[5],s[6]]})\n",
    "models.sort_values(by='Score', ascending=False)"
   ]
  },
  {
   "cell_type": "code",
   "execution_count": null,
   "metadata": {},
   "outputs": [],
   "source": []
  },
  {
   "cell_type": "code",
   "execution_count": 49,
   "metadata": {},
   "outputs": [
    {
     "data": {
      "text/plain": [
       "DecisionTreeClassifier(ccp_alpha=0.0, class_weight=None, criterion='gini',\n",
       "                       max_depth=None, max_features=None, max_leaf_nodes=None,\n",
       "                       min_impurity_decrease=0.0, min_impurity_split=None,\n",
       "                       min_samples_leaf=1, min_samples_split=2,\n",
       "                       min_weight_fraction_leaf=0.0, presort='deprecated',\n",
       "                       random_state=None, splitter='best')"
      ]
     },
     "execution_count": 49,
     "metadata": {},
     "output_type": "execute_result"
    }
   ],
   "source": [
    "# Importing decision tree classifier from sklearn library\n",
    "from sklearn.tree import DecisionTreeClassifier\n",
    "\n",
    "# Fitting the decision tree with default hyperparameters, apart from\n",
    "# max_depth which is 5 so that we can plot and read the tree.\n",
    "dt_default = DecisionTreeClassifier()\n",
    "dt_default.fit(X_train, y_train)"
   ]
  },
  {
   "cell_type": "code",
   "execution_count": 50,
   "metadata": {},
   "outputs": [
    {
     "name": "stdout",
     "output_type": "stream",
     "text": [
      "[[333   0   0]\n",
      " [  7 165   0]\n",
      " [  2   0  21]]\n",
      "0.9829545454545454\n"
     ]
    }
   ],
   "source": [
    "# Let's check the evaluation metrics of our default model for train\n",
    "\n",
    "# Importing classification report and confusion matrix from sklearn metrics\n",
    "from sklearn.metrics import classification_report, confusion_matrix, accuracy_score\n",
    "\n",
    "# Making predictions\n",
    "y_pred = dt_default.predict(X_train)\n",
    "\n",
    "print(confusion_matrix(y_train,y_pred))\n",
    "print(accuracy_score(y_train,y_pred))"
   ]
  },
  {
   "cell_type": "code",
   "execution_count": null,
   "metadata": {},
   "outputs": [],
   "source": []
  },
  {
   "cell_type": "code",
   "execution_count": 51,
   "metadata": {},
   "outputs": [
    {
     "name": "stdout",
     "output_type": "stream",
     "text": [
      "[[74 35  2]\n",
      " [36 12  7]\n",
      " [ 1  5  0]]\n",
      "0.5\n"
     ]
    }
   ],
   "source": [
    "# Let's check the evaluation metrics of our default model test\n",
    "\n",
    "# Making predictions\n",
    "y_pred_default = dt_default.predict(X_test)\n",
    "\n",
    "# Printing confusion matrix and accuracy\n",
    "print(confusion_matrix(y_test,y_pred_default))\n",
    "print(accuracy_score(y_test,y_pred_default))"
   ]
  },
  {
   "cell_type": "code",
   "execution_count": 52,
   "metadata": {},
   "outputs": [],
   "source": [
    "from sklearn.model_selection import cross_val_predict\n",
    "#import sklearn.grid_search\n",
    "from sklearn.ensemble import RandomForestRegressor"
   ]
  },
  {
   "cell_type": "code",
   "execution_count": 53,
   "metadata": {},
   "outputs": [],
   "source": [
    "rfg_default = RandomForestRegressor()"
   ]
  },
  {
   "cell_type": "code",
   "execution_count": 54,
   "metadata": {},
   "outputs": [
    {
     "data": {
      "text/plain": [
       "RandomForestRegressor(bootstrap=True, ccp_alpha=0.0, criterion='mse',\n",
       "                      max_depth=None, max_features='auto', max_leaf_nodes=None,\n",
       "                      max_samples=None, min_impurity_decrease=0.0,\n",
       "                      min_impurity_split=None, min_samples_leaf=1,\n",
       "                      min_samples_split=2, min_weight_fraction_leaf=0.0,\n",
       "                      n_estimators=100, n_jobs=None, oob_score=False,\n",
       "                      random_state=None, verbose=0, warm_start=False)"
      ]
     },
     "execution_count": 54,
     "metadata": {},
     "output_type": "execute_result"
    }
   ],
   "source": [
    "rfg_default.fit(X_train, y_train)"
   ]
  },
  {
   "cell_type": "code",
   "execution_count": 55,
   "metadata": {},
   "outputs": [],
   "source": [
    "from sklearn.model_selection import cross_val_predict\n",
    "#import sklearn.grid_search\n",
    "from sklearn.model_selection import GridSearchCV\n",
    "from sklearn.ensemble import RandomForestClassifier\n",
    "def rfr_model(X, y):\n",
    "    # Perform Grid-Search\n",
    "    gsc = GridSearchCV(estimator=RandomForestClassifier(),\n",
    "                       param_grid={'max_depth': range(3,5),'n_estimators': (500, 700),'min_samples_leaf':[5,10,50,100]},\n",
    "                       cv=5, verbose=5,n_jobs=-1)\n",
    "    grid_result = gsc.fit(X, y)\n",
    "    best_params = grid_result.best_params_\n",
    "    rfr = RandomForestClassifier(max_depth=best_params[\"max_depth\"], n_estimators=best_params[\"n_estimators\"],random_state=False, verbose=False)\n",
    "    # Perform K-Fold CV\n",
    "    scores = cross_val_predict(rfr, X, y, cv=10)\n",
    "    return rfr,scores,best_params"
   ]
  },
  {
   "cell_type": "code",
   "execution_count": 56,
   "metadata": {},
   "outputs": [
    {
     "name": "stdout",
     "output_type": "stream",
     "text": [
      "Fitting 5 folds for each of 16 candidates, totalling 80 fits\n"
     ]
    },
    {
     "name": "stderr",
     "output_type": "stream",
     "text": [
      "[Parallel(n_jobs=-1)]: Using backend LokyBackend with 8 concurrent workers.\n",
      "[Parallel(n_jobs=-1)]: Done   2 tasks      | elapsed:    4.4s\n",
      "[Parallel(n_jobs=-1)]: Done  56 tasks      | elapsed:   21.2s\n",
      "[Parallel(n_jobs=-1)]: Done  80 out of  80 | elapsed:   26.7s finished\n"
     ]
    }
   ],
   "source": [
    "model, score,best_params = rfr_model(X_train,y_train)"
   ]
  },
  {
   "cell_type": "code",
   "execution_count": 57,
   "metadata": {},
   "outputs": [
    {
     "data": {
      "text/plain": [
       "{'max_depth': 4, 'min_samples_leaf': 10, 'n_estimators': 700}"
      ]
     },
     "execution_count": 57,
     "metadata": {},
     "output_type": "execute_result"
    }
   ],
   "source": [
    "best_params"
   ]
  },
  {
   "cell_type": "code",
   "execution_count": 58,
   "metadata": {},
   "outputs": [],
   "source": [
    "final_model =  RandomForestClassifier(max_depth=3, n_estimators=500, min_samples_leaf= 50, random_state=False, verbose=False)"
   ]
  },
  {
   "cell_type": "code",
   "execution_count": 59,
   "metadata": {},
   "outputs": [
    {
     "data": {
      "text/plain": [
       "RandomForestClassifier(bootstrap=True, ccp_alpha=0.0, class_weight=None,\n",
       "                       criterion='gini', max_depth=3, max_features='auto',\n",
       "                       max_leaf_nodes=None, max_samples=None,\n",
       "                       min_impurity_decrease=0.0, min_impurity_split=None,\n",
       "                       min_samples_leaf=50, min_samples_split=2,\n",
       "                       min_weight_fraction_leaf=0.0, n_estimators=500,\n",
       "                       n_jobs=None, oob_score=False, random_state=False,\n",
       "                       verbose=False, warm_start=False)"
      ]
     },
     "execution_count": 59,
     "metadata": {},
     "output_type": "execute_result"
    }
   ],
   "source": [
    "final_model.fit(X_train, y_train)"
   ]
  },
  {
   "cell_type": "code",
   "execution_count": 60,
   "metadata": {},
   "outputs": [
    {
     "data": {
      "text/plain": [
       "RandomForestClassifier(bootstrap=True, ccp_alpha=0.0, class_weight=None,\n",
       "                       criterion='gini', max_depth=3, max_features='auto',\n",
       "                       max_leaf_nodes=None, max_samples=None,\n",
       "                       min_impurity_decrease=0.0, min_impurity_split=None,\n",
       "                       min_samples_leaf=50, min_samples_split=2,\n",
       "                       min_weight_fraction_leaf=0.0, n_estimators=500,\n",
       "                       n_jobs=None, oob_score=False, random_state=False,\n",
       "                       verbose=False, warm_start=False)"
      ]
     },
     "execution_count": 60,
     "metadata": {},
     "output_type": "execute_result"
    }
   ],
   "source": [
    "#To avoid name conflict for Final Demo \n",
    "final_model_predictpurpose =  RandomForestClassifier(max_depth=3, n_estimators=500, min_samples_leaf= 50, random_state=False, verbose=False)\n",
    "final_model_predictpurpose.fit(X_train, y_train)\n"
   ]
  },
  {
   "cell_type": "code",
   "execution_count": 61,
   "metadata": {},
   "outputs": [
    {
     "name": "stdout",
     "output_type": "stream",
     "text": [
      "[[302  31   0]\n",
      " [112  60   0]\n",
      " [ 17   6   0]]\n",
      "0.6856060606060606\n"
     ]
    }
   ],
   "source": [
    "y_pred = final_model.predict(X_train)\n",
    "print(confusion_matrix(y_train,y_pred))\n",
    "print(accuracy_score(y_train,y_pred))"
   ]
  },
  {
   "cell_type": "markdown",
   "metadata": {},
   "source": [
    "# Final Result for Randomforest to predict Purpose"
   ]
  },
  {
   "cell_type": "code",
   "execution_count": 62,
   "metadata": {},
   "outputs": [
    {
     "name": "stdout",
     "output_type": "stream",
     "text": [
      "[[107   4   0]\n",
      " [ 39  16   0]\n",
      " [  4   2   0]]\n",
      "0.7151162790697675\n"
     ]
    }
   ],
   "source": [
    "# Let's check the evaluation metrics of our default model test\n",
    "\n",
    "# Importing classification report and confusion matrix from sklearn metrics\n",
    "from sklearn.metrics import classification_report, confusion_matrix, accuracy_score\n",
    "\n",
    "# Making predictions\n",
    "y_pred_default = final_model.predict(X_test)\n",
    "\n",
    "# Printing confusion matrix and accuracy\n",
    "print(confusion_matrix(y_test,y_pred_default))\n",
    "print(accuracy_score(y_test,y_pred_default))"
   ]
  },
  {
   "cell_type": "code",
   "execution_count": 63,
   "metadata": {},
   "outputs": [
    {
     "data": {
      "text/html": [
       "<div>\n",
       "<style scoped>\n",
       "    .dataframe tbody tr th:only-of-type {\n",
       "        vertical-align: middle;\n",
       "    }\n",
       "\n",
       "    .dataframe tbody tr th {\n",
       "        vertical-align: top;\n",
       "    }\n",
       "\n",
       "    .dataframe thead th {\n",
       "        text-align: right;\n",
       "    }\n",
       "</style>\n",
       "<table border=\"1\" class=\"dataframe\">\n",
       "  <thead>\n",
       "    <tr style=\"text-align: right;\">\n",
       "      <th></th>\n",
       "      <th>CustomerID</th>\n",
       "      <th>AgentID</th>\n",
       "      <th>Satisfaction</th>\n",
       "    </tr>\n",
       "  </thead>\n",
       "  <tbody>\n",
       "    <tr>\n",
       "      <th>3</th>\n",
       "      <td>0</td>\n",
       "      <td>3</td>\n",
       "      <td>4</td>\n",
       "    </tr>\n",
       "    <tr>\n",
       "      <th>6</th>\n",
       "      <td>1</td>\n",
       "      <td>6</td>\n",
       "      <td>1</td>\n",
       "    </tr>\n",
       "    <tr>\n",
       "      <th>7</th>\n",
       "      <td>1</td>\n",
       "      <td>6</td>\n",
       "      <td>1</td>\n",
       "    </tr>\n",
       "    <tr>\n",
       "      <th>8</th>\n",
       "      <td>1</td>\n",
       "      <td>7</td>\n",
       "      <td>4</td>\n",
       "    </tr>\n",
       "    <tr>\n",
       "      <th>9</th>\n",
       "      <td>1</td>\n",
       "      <td>1</td>\n",
       "      <td>4</td>\n",
       "    </tr>\n",
       "  </tbody>\n",
       "</table>\n",
       "</div>"
      ],
      "text/plain": [
       "   CustomerID  AgentID  Satisfaction\n",
       "3           0        3             4\n",
       "6           1        6             1\n",
       "7           1        6             1\n",
       "8           1        7             4\n",
       "9           1        1             4"
      ]
     },
     "execution_count": 63,
     "metadata": {},
     "output_type": "execute_result"
    }
   ],
   "source": [
    "X_test.head()"
   ]
  },
  {
   "cell_type": "markdown",
   "metadata": {},
   "source": [
    "# Data Pipeline"
   ]
  },
  {
   "cell_type": "code",
   "execution_count": 64,
   "metadata": {},
   "outputs": [],
   "source": [
    "#Data Pipeline \n",
    "#C0003\n",
    "#customer_id= input(\"Enter the customer_ID\")\n",
    "Predict_for_Customer='C0003'"
   ]
  },
  {
   "cell_type": "code",
   "execution_count": 65,
   "metadata": {},
   "outputs": [
    {
     "data": {
      "text/html": [
       "<div>\n",
       "<style scoped>\n",
       "    .dataframe tbody tr th:only-of-type {\n",
       "        vertical-align: middle;\n",
       "    }\n",
       "\n",
       "    .dataframe tbody tr th {\n",
       "        vertical-align: top;\n",
       "    }\n",
       "\n",
       "    .dataframe thead th {\n",
       "        text-align: right;\n",
       "    }\n",
       "</style>\n",
       "<table border=\"1\" class=\"dataframe\">\n",
       "  <thead>\n",
       "    <tr style=\"text-align: right;\">\n",
       "      <th></th>\n",
       "      <th>CustomerID</th>\n",
       "      <th>AgentID</th>\n",
       "      <th>CallDate</th>\n",
       "      <th>CallPurpose</th>\n",
       "      <th>Satisfaction</th>\n",
       "      <th>first_call_customer</th>\n",
       "      <th>Week</th>\n",
       "      <th>Day</th>\n",
       "      <th>WeekDay</th>\n",
       "      <th>Month</th>\n",
       "      <th>Time</th>\n",
       "      <th>next_call_date</th>\n",
       "      <th>days_diff</th>\n",
       "      <th>days_from_start</th>\n",
       "    </tr>\n",
       "  </thead>\n",
       "  <tbody>\n",
       "    <tr>\n",
       "      <th>3</th>\n",
       "      <td>C0001</td>\n",
       "      <td>A004</td>\n",
       "      <td>2020-07-16 08:51:00</td>\n",
       "      <td>Account Balance</td>\n",
       "      <td>4</td>\n",
       "      <td>2020-06-15 09:32:00</td>\n",
       "      <td>29</td>\n",
       "      <td>16</td>\n",
       "      <td>3</td>\n",
       "      <td>7</td>\n",
       "      <td>08:51:00</td>\n",
       "      <td>2020-06-15 09:32:00</td>\n",
       "      <td>30.971528</td>\n",
       "      <td>90.953472</td>\n",
       "    </tr>\n",
       "    <tr>\n",
       "      <th>9</th>\n",
       "      <td>C0002</td>\n",
       "      <td>A002</td>\n",
       "      <td>2020-07-27 08:00:00</td>\n",
       "      <td>Cannot login</td>\n",
       "      <td>4</td>\n",
       "      <td>2020-07-20 09:20:00</td>\n",
       "      <td>31</td>\n",
       "      <td>27</td>\n",
       "      <td>0</td>\n",
       "      <td>7</td>\n",
       "      <td>08:00:00</td>\n",
       "      <td>2020-07-20 09:20:00</td>\n",
       "      <td>6.944444</td>\n",
       "      <td>76.948611</td>\n",
       "    </tr>\n",
       "    <tr>\n",
       "      <th>14</th>\n",
       "      <td>C0003</td>\n",
       "      <td>A010</td>\n",
       "      <td>2020-06-22 08:43:00</td>\n",
       "      <td>Cannot login</td>\n",
       "      <td>3</td>\n",
       "      <td>2020-06-02 08:46:00</td>\n",
       "      <td>26</td>\n",
       "      <td>22</td>\n",
       "      <td>0</td>\n",
       "      <td>6</td>\n",
       "      <td>08:43:00</td>\n",
       "      <td>2020-06-02 08:46:00</td>\n",
       "      <td>19.997917</td>\n",
       "      <td>60.029167</td>\n",
       "    </tr>\n",
       "    <tr>\n",
       "      <th>24</th>\n",
       "      <td>C0004</td>\n",
       "      <td>A004</td>\n",
       "      <td>2020-07-17 08:44:00</td>\n",
       "      <td>Account Balance</td>\n",
       "      <td>4</td>\n",
       "      <td>2020-07-02 09:51:00</td>\n",
       "      <td>29</td>\n",
       "      <td>17</td>\n",
       "      <td>4</td>\n",
       "      <td>7</td>\n",
       "      <td>08:44:00</td>\n",
       "      <td>2020-07-02 09:51:00</td>\n",
       "      <td>14.953472</td>\n",
       "      <td>102.000000</td>\n",
       "    </tr>\n",
       "    <tr>\n",
       "      <th>33</th>\n",
       "      <td>C0005</td>\n",
       "      <td>A002</td>\n",
       "      <td>2020-07-26 09:58:00</td>\n",
       "      <td>Account Balance</td>\n",
       "      <td>4</td>\n",
       "      <td>2020-06-22 09:19:00</td>\n",
       "      <td>30</td>\n",
       "      <td>26</td>\n",
       "      <td>6</td>\n",
       "      <td>7</td>\n",
       "      <td>09:58:00</td>\n",
       "      <td>2020-06-22 09:19:00</td>\n",
       "      <td>34.027083</td>\n",
       "      <td>113.057639</td>\n",
       "    </tr>\n",
       "  </tbody>\n",
       "</table>\n",
       "</div>"
      ],
      "text/plain": [
       "   CustomerID AgentID            CallDate      CallPurpose  Satisfaction  \\\n",
       "3       C0001    A004 2020-07-16 08:51:00  Account Balance             4   \n",
       "9       C0002    A002 2020-07-27 08:00:00     Cannot login             4   \n",
       "14      C0003    A010 2020-06-22 08:43:00     Cannot login             3   \n",
       "24      C0004    A004 2020-07-17 08:44:00  Account Balance             4   \n",
       "33      C0005    A002 2020-07-26 09:58:00  Account Balance             4   \n",
       "\n",
       "    first_call_customer  Week  Day  WeekDay  Month      Time  \\\n",
       "3   2020-06-15 09:32:00    29   16        3      7  08:51:00   \n",
       "9   2020-07-20 09:20:00    31   27        0      7  08:00:00   \n",
       "14  2020-06-02 08:46:00    26   22        0      6  08:43:00   \n",
       "24  2020-07-02 09:51:00    29   17        4      7  08:44:00   \n",
       "33  2020-06-22 09:19:00    30   26        6      7  09:58:00   \n",
       "\n",
       "         next_call_date  days_diff  days_from_start  \n",
       "3   2020-06-15 09:32:00  30.971528        90.953472  \n",
       "9   2020-07-20 09:20:00   6.944444        76.948611  \n",
       "14  2020-06-02 08:46:00  19.997917        60.029167  \n",
       "24  2020-07-02 09:51:00  14.953472       102.000000  \n",
       "33  2020-06-22 09:19:00  34.027083       113.057639  "
      ]
     },
     "execution_count": 65,
     "metadata": {},
     "output_type": "execute_result"
    }
   ],
   "source": [
    "check_dataframe=df.sort_values(['CustomerID','CallDate']).groupby(['CustomerID']).tail(1)\n",
    "check_dataframe.head()"
   ]
  },
  {
   "cell_type": "code",
   "execution_count": 66,
   "metadata": {},
   "outputs": [],
   "source": [
    "satisfaction_value=check_dataframe[check_dataframe['CustomerID']==Predict_for_Customer]['Satisfaction'].values[0]\n",
    "last_AgentID = check_dataframe[check_dataframe['CustomerID']==Predict_for_Customer]['AgentID'].values[0]"
   ]
  },
  {
   "cell_type": "code",
   "execution_count": 67,
   "metadata": {},
   "outputs": [],
   "source": [
    "customer_id=Mapping[0][Predict_for_Customer]\n",
    "agent_id=Mapping[1][last_AgentID]"
   ]
  },
  {
   "cell_type": "code",
   "execution_count": 68,
   "metadata": {},
   "outputs": [],
   "source": [
    "passing_datframe=pd.DataFrame(data=[[customer_id,agent_id,satisfaction_value]],columns=['CustomerID','AgentID','Satisfaction'])"
   ]
  },
  {
   "cell_type": "code",
   "execution_count": 69,
   "metadata": {},
   "outputs": [
    {
     "data": {
      "text/html": [
       "<div>\n",
       "<style scoped>\n",
       "    .dataframe tbody tr th:only-of-type {\n",
       "        vertical-align: middle;\n",
       "    }\n",
       "\n",
       "    .dataframe tbody tr th {\n",
       "        vertical-align: top;\n",
       "    }\n",
       "\n",
       "    .dataframe thead th {\n",
       "        text-align: right;\n",
       "    }\n",
       "</style>\n",
       "<table border=\"1\" class=\"dataframe\">\n",
       "  <thead>\n",
       "    <tr style=\"text-align: right;\">\n",
       "      <th></th>\n",
       "      <th>CustomerID</th>\n",
       "      <th>AgentID</th>\n",
       "      <th>Satisfaction</th>\n",
       "    </tr>\n",
       "  </thead>\n",
       "  <tbody>\n",
       "    <tr>\n",
       "      <th>0</th>\n",
       "      <td>2</td>\n",
       "      <td>9</td>\n",
       "      <td>3</td>\n",
       "    </tr>\n",
       "  </tbody>\n",
       "</table>\n",
       "</div>"
      ],
      "text/plain": [
       "   CustomerID  AgentID  Satisfaction\n",
       "0           2        9             3"
      ]
     },
     "execution_count": 69,
     "metadata": {},
     "output_type": "execute_result"
    }
   ],
   "source": [
    "passing_datframe"
   ]
  },
  {
   "cell_type": "code",
   "execution_count": 70,
   "metadata": {},
   "outputs": [],
   "source": [
    "y_pred_default = final_model.predict(passing_datframe)"
   ]
  },
  {
   "cell_type": "code",
   "execution_count": 71,
   "metadata": {},
   "outputs": [],
   "source": [
    "A=y_pred_default[0]"
   ]
  },
  {
   "cell_type": "code",
   "execution_count": 72,
   "metadata": {},
   "outputs": [
    {
     "data": {
      "text/plain": [
       "0"
      ]
     },
     "execution_count": 72,
     "metadata": {},
     "output_type": "execute_result"
    }
   ],
   "source": [
    "A"
   ]
  },
  {
   "cell_type": "code",
   "execution_count": 73,
   "metadata": {},
   "outputs": [],
   "source": [
    "def get_key(val): \n",
    "    for key, value in Mapping[2].items(): \n",
    "         if val == value: \n",
    "             return key "
   ]
  },
  {
   "cell_type": "code",
   "execution_count": 74,
   "metadata": {},
   "outputs": [
    {
     "data": {
      "text/plain": [
       "'Account Balance'"
      ]
     },
     "execution_count": 74,
     "metadata": {},
     "output_type": "execute_result"
    }
   ],
   "source": [
    "get_key(A)"
   ]
  },
  {
   "cell_type": "markdown",
   "metadata": {},
   "source": [
    "#  Model Building :To predict next customer call "
   ]
  },
  {
   "cell_type": "code",
   "execution_count": 75,
   "metadata": {},
   "outputs": [],
   "source": [
    "from sklearn.neighbors import KNeighborsRegressor\n",
    "from sklearn.linear_model import LinearRegression\n",
    "from sklearn.ensemble import RandomForestRegressor\n",
    "from sklearn.linear_model import Lasso\n",
    "from sklearn.linear_model import ElasticNet\n",
    "from sklearn.tree import DecisionTreeRegressor\n",
    "from sklearn.ensemble import GradientBoostingRegressor\n",
    "from sklearn.model_selection import train_test_split\n",
    "from sklearn.metrics import r2_score"
   ]
  },
  {
   "cell_type": "code",
   "execution_count": 76,
   "metadata": {},
   "outputs": [
    {
     "data": {
      "text/html": [
       "<div>\n",
       "<style scoped>\n",
       "    .dataframe tbody tr th:only-of-type {\n",
       "        vertical-align: middle;\n",
       "    }\n",
       "\n",
       "    .dataframe tbody tr th {\n",
       "        vertical-align: top;\n",
       "    }\n",
       "\n",
       "    .dataframe thead th {\n",
       "        text-align: right;\n",
       "    }\n",
       "</style>\n",
       "<table border=\"1\" class=\"dataframe\">\n",
       "  <thead>\n",
       "    <tr style=\"text-align: right;\">\n",
       "      <th></th>\n",
       "      <th>CustomerID</th>\n",
       "      <th>AgentID</th>\n",
       "      <th>CallDate</th>\n",
       "      <th>CallPurpose</th>\n",
       "      <th>Satisfaction</th>\n",
       "      <th>first_call_customer</th>\n",
       "      <th>Week</th>\n",
       "      <th>Day</th>\n",
       "      <th>WeekDay</th>\n",
       "      <th>Month</th>\n",
       "      <th>Time</th>\n",
       "      <th>next_call_date</th>\n",
       "      <th>days_diff</th>\n",
       "      <th>days_from_start</th>\n",
       "    </tr>\n",
       "  </thead>\n",
       "  <tbody>\n",
       "    <tr>\n",
       "      <th>0</th>\n",
       "      <td>C0001</td>\n",
       "      <td>A007</td>\n",
       "      <td>2020-04-16 09:58:00</td>\n",
       "      <td>Account Balance</td>\n",
       "      <td>3</td>\n",
       "      <td>0</td>\n",
       "      <td>16</td>\n",
       "      <td>16</td>\n",
       "      <td>3</td>\n",
       "      <td>4</td>\n",
       "      <td>09:58:00</td>\n",
       "      <td>0</td>\n",
       "      <td>0.000000</td>\n",
       "      <td>0.000000</td>\n",
       "    </tr>\n",
       "    <tr>\n",
       "      <th>1</th>\n",
       "      <td>C0001</td>\n",
       "      <td>A001</td>\n",
       "      <td>2020-04-20 09:50:00</td>\n",
       "      <td>Account Balance</td>\n",
       "      <td>3</td>\n",
       "      <td>2020-04-16 09:58:00</td>\n",
       "      <td>17</td>\n",
       "      <td>20</td>\n",
       "      <td>0</td>\n",
       "      <td>4</td>\n",
       "      <td>09:50:00</td>\n",
       "      <td>2020-04-16 09:58:00</td>\n",
       "      <td>3.994444</td>\n",
       "      <td>3.994444</td>\n",
       "    </tr>\n",
       "    <tr>\n",
       "      <th>2</th>\n",
       "      <td>C0001</td>\n",
       "      <td>A007</td>\n",
       "      <td>2020-06-15 09:32:00</td>\n",
       "      <td>Account Balance</td>\n",
       "      <td>1</td>\n",
       "      <td>2020-04-20 09:50:00</td>\n",
       "      <td>25</td>\n",
       "      <td>15</td>\n",
       "      <td>0</td>\n",
       "      <td>6</td>\n",
       "      <td>09:32:00</td>\n",
       "      <td>2020-04-20 09:50:00</td>\n",
       "      <td>55.987500</td>\n",
       "      <td>59.981944</td>\n",
       "    </tr>\n",
       "    <tr>\n",
       "      <th>3</th>\n",
       "      <td>C0001</td>\n",
       "      <td>A004</td>\n",
       "      <td>2020-07-16 08:51:00</td>\n",
       "      <td>Account Balance</td>\n",
       "      <td>4</td>\n",
       "      <td>2020-06-15 09:32:00</td>\n",
       "      <td>29</td>\n",
       "      <td>16</td>\n",
       "      <td>3</td>\n",
       "      <td>7</td>\n",
       "      <td>08:51:00</td>\n",
       "      <td>2020-06-15 09:32:00</td>\n",
       "      <td>30.971528</td>\n",
       "      <td>90.953472</td>\n",
       "    </tr>\n",
       "    <tr>\n",
       "      <th>4</th>\n",
       "      <td>C0002</td>\n",
       "      <td>A010</td>\n",
       "      <td>2020-05-11 09:14:00</td>\n",
       "      <td>Account Balance</td>\n",
       "      <td>5</td>\n",
       "      <td>0</td>\n",
       "      <td>20</td>\n",
       "      <td>11</td>\n",
       "      <td>0</td>\n",
       "      <td>5</td>\n",
       "      <td>09:14:00</td>\n",
       "      <td>0</td>\n",
       "      <td>0.000000</td>\n",
       "      <td>0.000000</td>\n",
       "    </tr>\n",
       "  </tbody>\n",
       "</table>\n",
       "</div>"
      ],
      "text/plain": [
       "  CustomerID AgentID            CallDate      CallPurpose  Satisfaction  \\\n",
       "0      C0001    A007 2020-04-16 09:58:00  Account Balance             3   \n",
       "1      C0001    A001 2020-04-20 09:50:00  Account Balance             3   \n",
       "2      C0001    A007 2020-06-15 09:32:00  Account Balance             1   \n",
       "3      C0001    A004 2020-07-16 08:51:00  Account Balance             4   \n",
       "4      C0002    A010 2020-05-11 09:14:00  Account Balance             5   \n",
       "\n",
       "   first_call_customer  Week  Day  WeekDay  Month      Time  \\\n",
       "0                    0    16   16        3      4  09:58:00   \n",
       "1  2020-04-16 09:58:00    17   20        0      4  09:50:00   \n",
       "2  2020-04-20 09:50:00    25   15        0      6  09:32:00   \n",
       "3  2020-06-15 09:32:00    29   16        3      7  08:51:00   \n",
       "4                    0    20   11        0      5  09:14:00   \n",
       "\n",
       "        next_call_date  days_diff  days_from_start  \n",
       "0                    0   0.000000         0.000000  \n",
       "1  2020-04-16 09:58:00   3.994444         3.994444  \n",
       "2  2020-04-20 09:50:00  55.987500        59.981944  \n",
       "3  2020-06-15 09:32:00  30.971528        90.953472  \n",
       "4                    0   0.000000         0.000000  "
      ]
     },
     "execution_count": 76,
     "metadata": {},
     "output_type": "execute_result"
    }
   ],
   "source": [
    "df.head()"
   ]
  },
  {
   "cell_type": "code",
   "execution_count": 77,
   "metadata": {},
   "outputs": [],
   "source": [
    "test= df[df.days_from_start>0].copy()\n",
    "unseen= df[df.days_from_start==0].copy()"
   ]
  },
  {
   "cell_type": "code",
   "execution_count": 78,
   "metadata": {},
   "outputs": [
    {
     "data": {
      "text/html": [
       "<div>\n",
       "<style scoped>\n",
       "    .dataframe tbody tr th:only-of-type {\n",
       "        vertical-align: middle;\n",
       "    }\n",
       "\n",
       "    .dataframe tbody tr th {\n",
       "        vertical-align: top;\n",
       "    }\n",
       "\n",
       "    .dataframe thead th {\n",
       "        text-align: right;\n",
       "    }\n",
       "</style>\n",
       "<table border=\"1\" class=\"dataframe\">\n",
       "  <thead>\n",
       "    <tr style=\"text-align: right;\">\n",
       "      <th></th>\n",
       "      <th>CustomerID</th>\n",
       "      <th>AgentID</th>\n",
       "      <th>CallDate</th>\n",
       "      <th>CallPurpose</th>\n",
       "      <th>Satisfaction</th>\n",
       "      <th>first_call_customer</th>\n",
       "      <th>Week</th>\n",
       "      <th>Day</th>\n",
       "      <th>WeekDay</th>\n",
       "      <th>Month</th>\n",
       "      <th>Time</th>\n",
       "      <th>next_call_date</th>\n",
       "      <th>days_diff</th>\n",
       "      <th>days_from_start</th>\n",
       "    </tr>\n",
       "  </thead>\n",
       "  <tbody>\n",
       "    <tr>\n",
       "      <th>0</th>\n",
       "      <td>C0001</td>\n",
       "      <td>A007</td>\n",
       "      <td>2020-04-16 09:58:00</td>\n",
       "      <td>Account Balance</td>\n",
       "      <td>3</td>\n",
       "      <td>0</td>\n",
       "      <td>16</td>\n",
       "      <td>16</td>\n",
       "      <td>3</td>\n",
       "      <td>4</td>\n",
       "      <td>09:58:00</td>\n",
       "      <td>0</td>\n",
       "      <td>0.0</td>\n",
       "      <td>0.0</td>\n",
       "    </tr>\n",
       "    <tr>\n",
       "      <th>4</th>\n",
       "      <td>C0002</td>\n",
       "      <td>A010</td>\n",
       "      <td>2020-05-11 09:14:00</td>\n",
       "      <td>Account Balance</td>\n",
       "      <td>5</td>\n",
       "      <td>0</td>\n",
       "      <td>20</td>\n",
       "      <td>11</td>\n",
       "      <td>0</td>\n",
       "      <td>5</td>\n",
       "      <td>09:14:00</td>\n",
       "      <td>0</td>\n",
       "      <td>0.0</td>\n",
       "      <td>0.0</td>\n",
       "    </tr>\n",
       "    <tr>\n",
       "      <th>10</th>\n",
       "      <td>C0003</td>\n",
       "      <td>A007</td>\n",
       "      <td>2020-04-23 08:01:00</td>\n",
       "      <td>Cannot login</td>\n",
       "      <td>2</td>\n",
       "      <td>0</td>\n",
       "      <td>17</td>\n",
       "      <td>23</td>\n",
       "      <td>3</td>\n",
       "      <td>4</td>\n",
       "      <td>08:01:00</td>\n",
       "      <td>0</td>\n",
       "      <td>0.0</td>\n",
       "      <td>0.0</td>\n",
       "    </tr>\n",
       "    <tr>\n",
       "      <th>15</th>\n",
       "      <td>C0004</td>\n",
       "      <td>A004</td>\n",
       "      <td>2020-04-06 08:44:00</td>\n",
       "      <td>Account Balance</td>\n",
       "      <td>4</td>\n",
       "      <td>0</td>\n",
       "      <td>15</td>\n",
       "      <td>6</td>\n",
       "      <td>0</td>\n",
       "      <td>4</td>\n",
       "      <td>08:44:00</td>\n",
       "      <td>0</td>\n",
       "      <td>0.0</td>\n",
       "      <td>0.0</td>\n",
       "    </tr>\n",
       "    <tr>\n",
       "      <th>25</th>\n",
       "      <td>C0005</td>\n",
       "      <td>A004</td>\n",
       "      <td>2020-04-04 08:35:00</td>\n",
       "      <td>Account Balance</td>\n",
       "      <td>5</td>\n",
       "      <td>0</td>\n",
       "      <td>14</td>\n",
       "      <td>4</td>\n",
       "      <td>5</td>\n",
       "      <td>4</td>\n",
       "      <td>08:35:00</td>\n",
       "      <td>0</td>\n",
       "      <td>0.0</td>\n",
       "      <td>0.0</td>\n",
       "    </tr>\n",
       "  </tbody>\n",
       "</table>\n",
       "</div>"
      ],
      "text/plain": [
       "   CustomerID AgentID            CallDate      CallPurpose  Satisfaction  \\\n",
       "0       C0001    A007 2020-04-16 09:58:00  Account Balance             3   \n",
       "4       C0002    A010 2020-05-11 09:14:00  Account Balance             5   \n",
       "10      C0003    A007 2020-04-23 08:01:00     Cannot login             2   \n",
       "15      C0004    A004 2020-04-06 08:44:00  Account Balance             4   \n",
       "25      C0005    A004 2020-04-04 08:35:00  Account Balance             5   \n",
       "\n",
       "   first_call_customer  Week  Day  WeekDay  Month      Time next_call_date  \\\n",
       "0                    0    16   16        3      4  09:58:00              0   \n",
       "4                    0    20   11        0      5  09:14:00              0   \n",
       "10                   0    17   23        3      4  08:01:00              0   \n",
       "15                   0    15    6        0      4  08:44:00              0   \n",
       "25                   0    14    4        5      4  08:35:00              0   \n",
       "\n",
       "    days_diff  days_from_start  \n",
       "0         0.0              0.0  \n",
       "4         0.0              0.0  \n",
       "10        0.0              0.0  \n",
       "15        0.0              0.0  \n",
       "25        0.0              0.0  "
      ]
     },
     "execution_count": 78,
     "metadata": {},
     "output_type": "execute_result"
    }
   ],
   "source": [
    "unseen.head()"
   ]
  },
  {
   "cell_type": "code",
   "execution_count": 79,
   "metadata": {},
   "outputs": [],
   "source": [
    "features=['Satisfaction','days_diff']\n",
    "target = ['days_from_start']"
   ]
  },
  {
   "cell_type": "code",
   "execution_count": 80,
   "metadata": {},
   "outputs": [],
   "source": [
    "X_train,X_test, y_train,y_test = train_test_split(test[['Satisfaction','days_diff']],test['days_from_start'])"
   ]
  },
  {
   "cell_type": "code",
   "execution_count": 81,
   "metadata": {},
   "outputs": [],
   "source": [
    "#Comparing Algorithms\n",
    "def scores(i):\n",
    "    lin = i()\n",
    "    lin.fit(X_train, y_train)\n",
    "    y_pred=lin.predict(X_test)\n",
    "    lin_r= r2_score(y_test, y_pred)\n",
    "    s.append(lin_r)"
   ]
  },
  {
   "cell_type": "code",
   "execution_count": 82,
   "metadata": {},
   "outputs": [],
   "source": [
    "#Checking the scores by using our function\n",
    "algos=[LinearRegression,KNeighborsRegressor,RandomForestRegressor,Lasso,ElasticNet,DecisionTreeRegressor]\n",
    "s=[]\n",
    "for i in algos:\n",
    "    scores(i)"
   ]
  },
  {
   "cell_type": "code",
   "execution_count": 83,
   "metadata": {},
   "outputs": [
    {
     "data": {
      "text/html": [
       "<div>\n",
       "<style scoped>\n",
       "    .dataframe tbody tr th:only-of-type {\n",
       "        vertical-align: middle;\n",
       "    }\n",
       "\n",
       "    .dataframe tbody tr th {\n",
       "        vertical-align: top;\n",
       "    }\n",
       "\n",
       "    .dataframe thead th {\n",
       "        text-align: right;\n",
       "    }\n",
       "</style>\n",
       "<table border=\"1\" class=\"dataframe\">\n",
       "  <thead>\n",
       "    <tr style=\"text-align: right;\">\n",
       "      <th></th>\n",
       "      <th>Method</th>\n",
       "      <th>Score</th>\n",
       "    </tr>\n",
       "  </thead>\n",
       "  <tbody>\n",
       "    <tr>\n",
       "      <th>0</th>\n",
       "      <td>LinearRegression</td>\n",
       "      <td>0.009660</td>\n",
       "    </tr>\n",
       "    <tr>\n",
       "      <th>4</th>\n",
       "      <td>DecisionTreeRegressor</td>\n",
       "      <td>0.007047</td>\n",
       "    </tr>\n",
       "    <tr>\n",
       "      <th>3</th>\n",
       "      <td>Lasso</td>\n",
       "      <td>0.006642</td>\n",
       "    </tr>\n",
       "    <tr>\n",
       "      <th>1</th>\n",
       "      <td>KNeighborsRegressor</td>\n",
       "      <td>-0.140874</td>\n",
       "    </tr>\n",
       "    <tr>\n",
       "      <th>2</th>\n",
       "      <td>RandomForestRegressor</td>\n",
       "      <td>-0.301562</td>\n",
       "    </tr>\n",
       "  </tbody>\n",
       "</table>\n",
       "</div>"
      ],
      "text/plain": [
       "                  Method     Score\n",
       "0       LinearRegression  0.009660\n",
       "4  DecisionTreeRegressor  0.007047\n",
       "3                  Lasso  0.006642\n",
       "1    KNeighborsRegressor -0.140874\n",
       "2  RandomForestRegressor -0.301562"
      ]
     },
     "execution_count": 83,
     "metadata": {},
     "output_type": "execute_result"
    }
   ],
   "source": [
    "#Checking the score\n",
    "models = pd.DataFrame({\n",
    "    'Method': ['LinearRegression', 'KNeighborsRegressor', \n",
    "              'RandomForestRegressor', 'Lasso','DecisionTreeRegressor'],\n",
    "    'Score': [s[0],s[1],s[2],s[3],s[4]]})\n",
    "models.sort_values(by='Score', ascending=False)"
   ]
  },
  {
   "cell_type": "code",
   "execution_count": 84,
   "metadata": {},
   "outputs": [],
   "source": [
    "clf =LinearRegression() "
   ]
  },
  {
   "cell_type": "code",
   "execution_count": 85,
   "metadata": {},
   "outputs": [
    {
     "data": {
      "text/plain": [
       "LinearRegression(copy_X=True, fit_intercept=True, n_jobs=None, normalize=False)"
      ]
     },
     "execution_count": 85,
     "metadata": {},
     "output_type": "execute_result"
    }
   ],
   "source": [
    "#clf.fit(train[features],train[target])\n",
    "clf.fit(X_train,y_train)"
   ]
  },
  {
   "cell_type": "code",
   "execution_count": 86,
   "metadata": {},
   "outputs": [
    {
     "data": {
      "text/plain": [
       "0.050446383530029726"
      ]
     },
     "execution_count": 86,
     "metadata": {},
     "output_type": "execute_result"
    }
   ],
   "source": [
    "clf.score(X_train,y_train)"
   ]
  },
  {
   "cell_type": "code",
   "execution_count": 87,
   "metadata": {},
   "outputs": [],
   "source": [
    "y_pred= clf.predict(X_test)"
   ]
  },
  {
   "cell_type": "code",
   "execution_count": 88,
   "metadata": {},
   "outputs": [
    {
     "data": {
      "text/plain": [
       "0.00965966674871388"
      ]
     },
     "execution_count": 88,
     "metadata": {},
     "output_type": "execute_result"
    }
   ],
   "source": [
    "clf.score(X_test, y_test)"
   ]
  },
  {
   "cell_type": "code",
   "execution_count": 89,
   "metadata": {},
   "outputs": [
    {
     "data": {
      "text/plain": [
       "0.00965966674871388"
      ]
     },
     "execution_count": 89,
     "metadata": {},
     "output_type": "execute_result"
    }
   ],
   "source": [
    "r2_score(y_test,y_pred)"
   ]
  },
  {
   "cell_type": "code",
   "execution_count": null,
   "metadata": {},
   "outputs": [],
   "source": []
  },
  {
   "cell_type": "code",
   "execution_count": 90,
   "metadata": {},
   "outputs": [],
   "source": [
    "from sklearn.model_selection import cross_val_predict\n",
    "#import sklearn.grid_search\n",
    "from sklearn.model_selection import GridSearchCV\n",
    "from sklearn.ensemble import RandomForestRegressor\n",
    "def rfr_model(X, y):\n",
    "    # Perform Grid-Search\n",
    "    gsc = GridSearchCV(estimator=RandomForestRegressor(),\n",
    "                       param_grid={'max_depth': range(3,5),'n_estimators': (500, 700),'min_samples_leaf':[5,10,50,100]},\n",
    "                       cv=5, verbose=5,n_jobs=-1)\n",
    "    grid_result = gsc.fit(X, y)\n",
    "    best_params = grid_result.best_params_\n",
    "    rfr = RandomForestRegressor(max_depth=best_params[\"max_depth\"], n_estimators=best_params[\"n_estimators\"],                               random_state=False, verbose=False)\n",
    "    # Perform K-Fold CV\n",
    "    scores = cross_val_predict(rfr, X, y, cv=10)\n",
    "    return rfr,scores,best_params"
   ]
  },
  {
   "cell_type": "code",
   "execution_count": 91,
   "metadata": {},
   "outputs": [
    {
     "name": "stdout",
     "output_type": "stream",
     "text": [
      "Fitting 5 folds for each of 16 candidates, totalling 80 fits\n"
     ]
    },
    {
     "name": "stderr",
     "output_type": "stream",
     "text": [
      "[Parallel(n_jobs=-1)]: Using backend LokyBackend with 8 concurrent workers.\n",
      "[Parallel(n_jobs=-1)]: Done   2 tasks      | elapsed:    1.5s\n",
      "[Parallel(n_jobs=-1)]: Done  56 tasks      | elapsed:   14.6s\n",
      "[Parallel(n_jobs=-1)]: Done  80 out of  80 | elapsed:   19.2s finished\n"
     ]
    }
   ],
   "source": [
    "model, score,best_params = rfr_model(X_train,y_train)"
   ]
  },
  {
   "cell_type": "code",
   "execution_count": 92,
   "metadata": {},
   "outputs": [
    {
     "data": {
      "text/plain": [
       "{'max_depth': 3, 'min_samples_leaf': 10, 'n_estimators': 700}"
      ]
     },
     "execution_count": 92,
     "metadata": {},
     "output_type": "execute_result"
    }
   ],
   "source": [
    "best_params"
   ]
  },
  {
   "cell_type": "code",
   "execution_count": null,
   "metadata": {},
   "outputs": [],
   "source": []
  },
  {
   "cell_type": "code",
   "execution_count": 93,
   "metadata": {},
   "outputs": [],
   "source": [
    "final_model =  RandomForestRegressor(max_depth=3, n_estimators=700, min_samples_leaf= 100, random_state=False, verbose=False)\n"
   ]
  },
  {
   "cell_type": "code",
   "execution_count": 94,
   "metadata": {},
   "outputs": [
    {
     "data": {
      "text/plain": [
       "RandomForestRegressor(bootstrap=True, ccp_alpha=0.0, criterion='mse',\n",
       "                      max_depth=3, max_features='auto', max_leaf_nodes=None,\n",
       "                      max_samples=None, min_impurity_decrease=0.0,\n",
       "                      min_impurity_split=None, min_samples_leaf=100,\n",
       "                      min_samples_split=2, min_weight_fraction_leaf=0.0,\n",
       "                      n_estimators=700, n_jobs=None, oob_score=False,\n",
       "                      random_state=False, verbose=False, warm_start=False)"
      ]
     },
     "execution_count": 94,
     "metadata": {},
     "output_type": "execute_result"
    }
   ],
   "source": [
    "final_model.fit(X_train,y_train)"
   ]
  },
  {
   "cell_type": "code",
   "execution_count": 95,
   "metadata": {},
   "outputs": [
    {
     "data": {
      "text/plain": [
       "array([52.81875708, 47.75212138, 52.73311708, 47.84730251, 60.26970501,\n",
       "       60.32665115, 60.36488614, 60.26970501, 60.36488614, 59.65832318,\n",
       "       47.84730251, 47.75212138, 52.61201104, 47.84730251, 52.86922117,\n",
       "       52.9644023 , 60.23147002, 47.84730251, 60.26970501, 47.75212138,\n",
       "       47.84730251, 47.84730251, 60.36488614, 47.95732604, 52.73311708,\n",
       "       47.84730251, 52.57781792, 59.70258707, 48.05250717, 52.75478399,\n",
       "       60.36488614, 47.84730251, 60.23147002, 52.73311708, 60.36488614,\n",
       "       47.75212138, 47.84730251, 52.74423557, 59.60740594, 60.26970501,\n",
       "       47.75212138, 60.36488614, 60.26970501, 53.42647786, 60.26970501,\n",
       "       60.36488614, 60.36488614, 47.84730251, 52.81875708, 59.44382509,\n",
       "       47.84730251, 47.84730251, 60.36488614, 52.86922117, 52.84996512,\n",
       "       60.36488614, 52.61201104, 60.26970501, 60.32665115, 58.50476509,\n",
       "       59.73632134, 52.9644023 , 52.47868173, 47.84730251, 47.84730251,\n",
       "       47.75212138, 52.61201104, 47.84730251, 47.84730251, 52.98576909,\n",
       "       47.84730251, 52.81875708, 54.64903954, 60.26970501, 47.75212138,\n",
       "       60.36488614, 60.36488614, 60.26970501, 60.36488614, 52.74423557,\n",
       "       52.81875708, 60.36488614, 60.36488614, 60.23147002, 52.86922117,\n",
       "       52.73311708, 59.70258707, 52.73311708, 60.26970501, 52.8282982 ,\n",
       "       47.84730251, 52.73311708, 47.84730251, 52.8282982 , 52.8282982 ,\n",
       "       60.26970501, 60.26970501, 52.81875708, 59.73632134, 52.74708623,\n",
       "       52.51682991, 59.64114022, 60.26970501, 47.84730251, 60.36488614,\n",
       "       60.36488614, 47.75212138, 47.75212138, 47.75212138, 60.26970501,\n",
       "       47.84730251, 47.75212138, 47.84730251, 53.46432696, 60.26970501,\n",
       "       53.34924916, 57.88683399, 47.84730251, 60.26970501, 47.84730251,\n",
       "       60.36488614, 60.26970501, 59.70258707, 47.75212138, 60.36488614,\n",
       "       55.98815298, 47.84730251, 60.26970501, 60.36488614, 47.84730251,\n",
       "       60.36488614, 60.26970501, 60.3129742 , 47.75212138, 47.75212138,\n",
       "       60.26970501, 60.36488614, 47.84730251, 60.26970501, 47.84730251,\n",
       "       47.75212138, 52.81875708, 60.26970501, 53.36914583, 59.60740594,\n",
       "       60.26970501, 60.36488614, 55.85321081, 58.42836938])"
      ]
     },
     "execution_count": 95,
     "metadata": {},
     "output_type": "execute_result"
    }
   ],
   "source": [
    "final_model.predict(X_test)"
   ]
  },
  {
   "cell_type": "code",
   "execution_count": 96,
   "metadata": {},
   "outputs": [
    {
     "data": {
      "text/plain": [
       "RandomForestRegressor(bootstrap=True, ccp_alpha=0.0, criterion='mse',\n",
       "                      max_depth=3, max_features='auto', max_leaf_nodes=None,\n",
       "                      max_samples=None, min_impurity_decrease=0.0,\n",
       "                      min_impurity_split=None, min_samples_leaf=100,\n",
       "                      min_samples_split=2, min_weight_fraction_leaf=0.0,\n",
       "                      n_estimators=700, n_jobs=None, oob_score=False,\n",
       "                      random_state=False, verbose=False, warm_start=False)"
      ]
     },
     "execution_count": 96,
     "metadata": {},
     "output_type": "execute_result"
    }
   ],
   "source": [
    "#To avoid name conflict for Final Demo \n",
    "final_model_predictfuturedate =  RandomForestRegressor(max_depth=3, n_estimators=700, min_samples_leaf= 100, random_state=False, verbose=False)\n",
    "final_model_predictfuturedate.fit(X_train,y_train)"
   ]
  },
  {
   "cell_type": "code",
   "execution_count": 97,
   "metadata": {},
   "outputs": [
    {
     "data": {
      "text/plain": [
       "0.02015171607489752"
      ]
     },
     "execution_count": 97,
     "metadata": {},
     "output_type": "execute_result"
    }
   ],
   "source": [
    "y_pred = final_model.predict(test[features])\n",
    "r2_score(y_test,final_model.predict(X_test))"
   ]
  },
  {
   "cell_type": "code",
   "execution_count": 98,
   "metadata": {},
   "outputs": [],
   "source": [
    "prediction_df = df.merge(test,on=None)"
   ]
  },
  {
   "cell_type": "code",
   "execution_count": 99,
   "metadata": {},
   "outputs": [
    {
     "data": {
      "text/html": [
       "<div>\n",
       "<style scoped>\n",
       "    .dataframe tbody tr th:only-of-type {\n",
       "        vertical-align: middle;\n",
       "    }\n",
       "\n",
       "    .dataframe tbody tr th {\n",
       "        vertical-align: top;\n",
       "    }\n",
       "\n",
       "    .dataframe thead th {\n",
       "        text-align: right;\n",
       "    }\n",
       "</style>\n",
       "<table border=\"1\" class=\"dataframe\">\n",
       "  <thead>\n",
       "    <tr style=\"text-align: right;\">\n",
       "      <th></th>\n",
       "      <th>CustomerID</th>\n",
       "      <th>AgentID</th>\n",
       "      <th>CallDate</th>\n",
       "      <th>CallPurpose</th>\n",
       "      <th>Satisfaction</th>\n",
       "      <th>first_call_customer</th>\n",
       "      <th>Week</th>\n",
       "      <th>Day</th>\n",
       "      <th>WeekDay</th>\n",
       "      <th>Month</th>\n",
       "      <th>Time</th>\n",
       "      <th>next_call_date</th>\n",
       "      <th>days_diff</th>\n",
       "      <th>days_from_start</th>\n",
       "      <th>future_days_call</th>\n",
       "    </tr>\n",
       "  </thead>\n",
       "  <tbody>\n",
       "    <tr>\n",
       "      <th>0</th>\n",
       "      <td>C0001</td>\n",
       "      <td>A001</td>\n",
       "      <td>2020-04-20 09:50:00</td>\n",
       "      <td>Account Balance</td>\n",
       "      <td>3</td>\n",
       "      <td>2020-04-16 09:58:00</td>\n",
       "      <td>17</td>\n",
       "      <td>20</td>\n",
       "      <td>0</td>\n",
       "      <td>4</td>\n",
       "      <td>09:50:00</td>\n",
       "      <td>2020-04-16 09:58:00</td>\n",
       "      <td>3.994444</td>\n",
       "      <td>3.994444</td>\n",
       "      <td>47.752121</td>\n",
       "    </tr>\n",
       "    <tr>\n",
       "      <th>1</th>\n",
       "      <td>C0001</td>\n",
       "      <td>A007</td>\n",
       "      <td>2020-06-15 09:32:00</td>\n",
       "      <td>Account Balance</td>\n",
       "      <td>1</td>\n",
       "      <td>2020-04-20 09:50:00</td>\n",
       "      <td>25</td>\n",
       "      <td>15</td>\n",
       "      <td>0</td>\n",
       "      <td>6</td>\n",
       "      <td>09:32:00</td>\n",
       "      <td>2020-04-20 09:50:00</td>\n",
       "      <td>55.987500</td>\n",
       "      <td>59.981944</td>\n",
       "      <td>60.269705</td>\n",
       "    </tr>\n",
       "    <tr>\n",
       "      <th>2</th>\n",
       "      <td>C0001</td>\n",
       "      <td>A004</td>\n",
       "      <td>2020-07-16 08:51:00</td>\n",
       "      <td>Account Balance</td>\n",
       "      <td>4</td>\n",
       "      <td>2020-06-15 09:32:00</td>\n",
       "      <td>29</td>\n",
       "      <td>16</td>\n",
       "      <td>3</td>\n",
       "      <td>7</td>\n",
       "      <td>08:51:00</td>\n",
       "      <td>2020-06-15 09:32:00</td>\n",
       "      <td>30.971528</td>\n",
       "      <td>90.953472</td>\n",
       "      <td>60.364886</td>\n",
       "    </tr>\n",
       "    <tr>\n",
       "      <th>3</th>\n",
       "      <td>C0002</td>\n",
       "      <td>A007</td>\n",
       "      <td>2020-05-25 09:53:00</td>\n",
       "      <td>Cannot login</td>\n",
       "      <td>2</td>\n",
       "      <td>2020-05-11 09:14:00</td>\n",
       "      <td>22</td>\n",
       "      <td>25</td>\n",
       "      <td>0</td>\n",
       "      <td>5</td>\n",
       "      <td>09:53:00</td>\n",
       "      <td>2020-05-11 09:14:00</td>\n",
       "      <td>14.027083</td>\n",
       "      <td>14.027083</td>\n",
       "      <td>55.988153</td>\n",
       "    </tr>\n",
       "    <tr>\n",
       "      <th>4</th>\n",
       "      <td>C0002</td>\n",
       "      <td>A007</td>\n",
       "      <td>2020-07-08 09:49:00</td>\n",
       "      <td>Cannot login</td>\n",
       "      <td>1</td>\n",
       "      <td>2020-05-25 09:53:00</td>\n",
       "      <td>28</td>\n",
       "      <td>8</td>\n",
       "      <td>2</td>\n",
       "      <td>7</td>\n",
       "      <td>09:49:00</td>\n",
       "      <td>2020-05-25 09:53:00</td>\n",
       "      <td>43.997222</td>\n",
       "      <td>58.024306</td>\n",
       "      <td>60.269705</td>\n",
       "    </tr>\n",
       "    <tr>\n",
       "      <th>...</th>\n",
       "      <td>...</td>\n",
       "      <td>...</td>\n",
       "      <td>...</td>\n",
       "      <td>...</td>\n",
       "      <td>...</td>\n",
       "      <td>...</td>\n",
       "      <td>...</td>\n",
       "      <td>...</td>\n",
       "      <td>...</td>\n",
       "      <td>...</td>\n",
       "      <td>...</td>\n",
       "      <td>...</td>\n",
       "      <td>...</td>\n",
       "      <td>...</td>\n",
       "      <td>...</td>\n",
       "    </tr>\n",
       "    <tr>\n",
       "      <th>590</th>\n",
       "      <td>C0104</td>\n",
       "      <td>A006</td>\n",
       "      <td>2020-07-11 08:43:00</td>\n",
       "      <td>Cannot login</td>\n",
       "      <td>1</td>\n",
       "      <td>2020-06-26 08:23:00</td>\n",
       "      <td>28</td>\n",
       "      <td>11</td>\n",
       "      <td>5</td>\n",
       "      <td>7</td>\n",
       "      <td>08:43:00</td>\n",
       "      <td>2020-06-26 08:23:00</td>\n",
       "      <td>15.013889</td>\n",
       "      <td>62.981944</td>\n",
       "      <td>58.409584</td>\n",
       "    </tr>\n",
       "    <tr>\n",
       "      <th>591</th>\n",
       "      <td>C0105</td>\n",
       "      <td>A005</td>\n",
       "      <td>2020-06-02 08:40:00</td>\n",
       "      <td>Account Balance</td>\n",
       "      <td>5</td>\n",
       "      <td>2020-04-06 08:48:00</td>\n",
       "      <td>23</td>\n",
       "      <td>2</td>\n",
       "      <td>1</td>\n",
       "      <td>6</td>\n",
       "      <td>08:40:00</td>\n",
       "      <td>2020-04-06 08:48:00</td>\n",
       "      <td>56.994444</td>\n",
       "      <td>56.994444</td>\n",
       "      <td>60.364886</td>\n",
       "    </tr>\n",
       "    <tr>\n",
       "      <th>592</th>\n",
       "      <td>C0105</td>\n",
       "      <td>A007</td>\n",
       "      <td>2020-06-11 09:33:00</td>\n",
       "      <td>Cannot login</td>\n",
       "      <td>1</td>\n",
       "      <td>2020-06-02 08:40:00</td>\n",
       "      <td>24</td>\n",
       "      <td>11</td>\n",
       "      <td>3</td>\n",
       "      <td>6</td>\n",
       "      <td>09:33:00</td>\n",
       "      <td>2020-06-02 08:40:00</td>\n",
       "      <td>9.036806</td>\n",
       "      <td>66.031250</td>\n",
       "      <td>52.733117</td>\n",
       "    </tr>\n",
       "    <tr>\n",
       "      <th>593</th>\n",
       "      <td>C0105</td>\n",
       "      <td>A009</td>\n",
       "      <td>2020-06-19 09:12:00</td>\n",
       "      <td>Account Balance</td>\n",
       "      <td>4</td>\n",
       "      <td>2020-06-11 09:33:00</td>\n",
       "      <td>25</td>\n",
       "      <td>19</td>\n",
       "      <td>4</td>\n",
       "      <td>6</td>\n",
       "      <td>09:12:00</td>\n",
       "      <td>2020-06-11 09:33:00</td>\n",
       "      <td>7.985417</td>\n",
       "      <td>74.016667</td>\n",
       "      <td>52.612011</td>\n",
       "    </tr>\n",
       "    <tr>\n",
       "      <th>594</th>\n",
       "      <td>C0105</td>\n",
       "      <td>A002</td>\n",
       "      <td>2020-06-22 08:50:00</td>\n",
       "      <td>Account Balance</td>\n",
       "      <td>5</td>\n",
       "      <td>2020-06-19 09:12:00</td>\n",
       "      <td>26</td>\n",
       "      <td>22</td>\n",
       "      <td>0</td>\n",
       "      <td>6</td>\n",
       "      <td>08:50:00</td>\n",
       "      <td>2020-06-19 09:12:00</td>\n",
       "      <td>2.984722</td>\n",
       "      <td>77.001389</td>\n",
       "      <td>47.847303</td>\n",
       "    </tr>\n",
       "  </tbody>\n",
       "</table>\n",
       "<p>595 rows × 15 columns</p>\n",
       "</div>"
      ],
      "text/plain": [
       "    CustomerID AgentID            CallDate      CallPurpose  Satisfaction  \\\n",
       "0        C0001    A001 2020-04-20 09:50:00  Account Balance             3   \n",
       "1        C0001    A007 2020-06-15 09:32:00  Account Balance             1   \n",
       "2        C0001    A004 2020-07-16 08:51:00  Account Balance             4   \n",
       "3        C0002    A007 2020-05-25 09:53:00     Cannot login             2   \n",
       "4        C0002    A007 2020-07-08 09:49:00     Cannot login             1   \n",
       "..         ...     ...                 ...              ...           ...   \n",
       "590      C0104    A006 2020-07-11 08:43:00     Cannot login             1   \n",
       "591      C0105    A005 2020-06-02 08:40:00  Account Balance             5   \n",
       "592      C0105    A007 2020-06-11 09:33:00     Cannot login             1   \n",
       "593      C0105    A009 2020-06-19 09:12:00  Account Balance             4   \n",
       "594      C0105    A002 2020-06-22 08:50:00  Account Balance             5   \n",
       "\n",
       "     first_call_customer  Week  Day  WeekDay  Month      Time  \\\n",
       "0    2020-04-16 09:58:00    17   20        0      4  09:50:00   \n",
       "1    2020-04-20 09:50:00    25   15        0      6  09:32:00   \n",
       "2    2020-06-15 09:32:00    29   16        3      7  08:51:00   \n",
       "3    2020-05-11 09:14:00    22   25        0      5  09:53:00   \n",
       "4    2020-05-25 09:53:00    28    8        2      7  09:49:00   \n",
       "..                   ...   ...  ...      ...    ...       ...   \n",
       "590  2020-06-26 08:23:00    28   11        5      7  08:43:00   \n",
       "591  2020-04-06 08:48:00    23    2        1      6  08:40:00   \n",
       "592  2020-06-02 08:40:00    24   11        3      6  09:33:00   \n",
       "593  2020-06-11 09:33:00    25   19        4      6  09:12:00   \n",
       "594  2020-06-19 09:12:00    26   22        0      6  08:50:00   \n",
       "\n",
       "          next_call_date  days_diff  days_from_start  future_days_call  \n",
       "0    2020-04-16 09:58:00   3.994444         3.994444         47.752121  \n",
       "1    2020-04-20 09:50:00  55.987500        59.981944         60.269705  \n",
       "2    2020-06-15 09:32:00  30.971528        90.953472         60.364886  \n",
       "3    2020-05-11 09:14:00  14.027083        14.027083         55.988153  \n",
       "4    2020-05-25 09:53:00  43.997222        58.024306         60.269705  \n",
       "..                   ...        ...              ...               ...  \n",
       "590  2020-06-26 08:23:00  15.013889        62.981944         58.409584  \n",
       "591  2020-04-06 08:48:00  56.994444        56.994444         60.364886  \n",
       "592  2020-06-02 08:40:00   9.036806        66.031250         52.733117  \n",
       "593  2020-06-11 09:33:00   7.985417        74.016667         52.612011  \n",
       "594  2020-06-19 09:12:00   2.984722        77.001389         47.847303  \n",
       "\n",
       "[595 rows x 15 columns]"
      ]
     },
     "execution_count": 99,
     "metadata": {},
     "output_type": "execute_result"
    }
   ],
   "source": [
    "prediction_df['future_days_call']=y_pred\n",
    "prediction_df"
   ]
  },
  {
   "cell_type": "code",
   "execution_count": 100,
   "metadata": {},
   "outputs": [],
   "source": [
    "pred2=pd.DataFrame()\n",
    "pred2['predicted']=final_model.predict(test[features])\n",
    "pred2['actual']=test[target].values"
   ]
  },
  {
   "cell_type": "code",
   "execution_count": 101,
   "metadata": {},
   "outputs": [
    {
     "data": {
      "text/plain": [
       "<matplotlib.axes._subplots.AxesSubplot at 0x1e1eb1a2208>"
      ]
     },
     "execution_count": 101,
     "metadata": {},
     "output_type": "execute_result"
    },
    {
     "data": {
      "image/png": "[encoded data removed]",
      "text/plain": [
       "<Figure size 432x288 with 1 Axes>"
      ]
     },
     "metadata": {
      "needs_background": "light"
     },
     "output_type": "display_data"
    }
   ],
   "source": [
    "sns.distplot(prediction_df['future_days_call'])"
   ]
  },
  {
   "cell_type": "code",
   "execution_count": 102,
   "metadata": {},
   "outputs": [
    {
     "data": {
      "text/html": [
       "<div>\n",
       "<style scoped>\n",
       "    .dataframe tbody tr th:only-of-type {\n",
       "        vertical-align: middle;\n",
       "    }\n",
       "\n",
       "    .dataframe tbody tr th {\n",
       "        vertical-align: top;\n",
       "    }\n",
       "\n",
       "    .dataframe thead th {\n",
       "        text-align: right;\n",
       "    }\n",
       "</style>\n",
       "<table border=\"1\" class=\"dataframe\">\n",
       "  <thead>\n",
       "    <tr style=\"text-align: right;\">\n",
       "      <th></th>\n",
       "      <th>predicted</th>\n",
       "      <th>actual</th>\n",
       "    </tr>\n",
       "  </thead>\n",
       "  <tbody>\n",
       "    <tr>\n",
       "      <th>0</th>\n",
       "      <td>47.752121</td>\n",
       "      <td>3.994444</td>\n",
       "    </tr>\n",
       "    <tr>\n",
       "      <th>1</th>\n",
       "      <td>60.269705</td>\n",
       "      <td>59.981944</td>\n",
       "    </tr>\n",
       "    <tr>\n",
       "      <th>2</th>\n",
       "      <td>60.364886</td>\n",
       "      <td>90.953472</td>\n",
       "    </tr>\n",
       "    <tr>\n",
       "      <th>3</th>\n",
       "      <td>55.988153</td>\n",
       "      <td>14.027083</td>\n",
       "    </tr>\n",
       "    <tr>\n",
       "      <th>4</th>\n",
       "      <td>60.269705</td>\n",
       "      <td>58.024306</td>\n",
       "    </tr>\n",
       "    <tr>\n",
       "      <th>...</th>\n",
       "      <td>...</td>\n",
       "      <td>...</td>\n",
       "    </tr>\n",
       "    <tr>\n",
       "      <th>590</th>\n",
       "      <td>58.409584</td>\n",
       "      <td>62.981944</td>\n",
       "    </tr>\n",
       "    <tr>\n",
       "      <th>591</th>\n",
       "      <td>60.364886</td>\n",
       "      <td>56.994444</td>\n",
       "    </tr>\n",
       "    <tr>\n",
       "      <th>592</th>\n",
       "      <td>52.733117</td>\n",
       "      <td>66.031250</td>\n",
       "    </tr>\n",
       "    <tr>\n",
       "      <th>593</th>\n",
       "      <td>52.612011</td>\n",
       "      <td>74.016667</td>\n",
       "    </tr>\n",
       "    <tr>\n",
       "      <th>594</th>\n",
       "      <td>47.847303</td>\n",
       "      <td>77.001389</td>\n",
       "    </tr>\n",
       "  </tbody>\n",
       "</table>\n",
       "<p>595 rows × 2 columns</p>\n",
       "</div>"
      ],
      "text/plain": [
       "     predicted     actual\n",
       "0    47.752121   3.994444\n",
       "1    60.269705  59.981944\n",
       "2    60.364886  90.953472\n",
       "3    55.988153  14.027083\n",
       "4    60.269705  58.024306\n",
       "..         ...        ...\n",
       "590  58.409584  62.981944\n",
       "591  60.364886  56.994444\n",
       "592  52.733117  66.031250\n",
       "593  52.612011  74.016667\n",
       "594  47.847303  77.001389\n",
       "\n",
       "[595 rows x 2 columns]"
      ]
     },
     "execution_count": 102,
     "metadata": {},
     "output_type": "execute_result"
    }
   ],
   "source": [
    "pred2"
   ]
  },
  {
   "cell_type": "code",
   "execution_count": null,
   "metadata": {},
   "outputs": [],
   "source": []
  },
  {
   "cell_type": "code",
   "execution_count": 103,
   "metadata": {},
   "outputs": [],
   "source": [
    "#Data PipeLine for call date Prediction (Testing Purpose)"
   ]
  },
  {
   "cell_type": "code",
   "execution_count": 104,
   "metadata": {},
   "outputs": [],
   "source": [
    "#Predict_for_Customer= input(\"Enter the customer ID:  \")\n",
    "Predict_for_Customer='C0003'"
   ]
  },
  {
   "cell_type": "code",
   "execution_count": 105,
   "metadata": {},
   "outputs": [],
   "source": [
    "check_dataframe=df.sort_values(['CustomerID','CallDate']).groupby(['CustomerID']).tail(1)"
   ]
  },
  {
   "cell_type": "code",
   "execution_count": 106,
   "metadata": {},
   "outputs": [
    {
     "data": {
      "text/html": [
       "<div>\n",
       "<style scoped>\n",
       "    .dataframe tbody tr th:only-of-type {\n",
       "        vertical-align: middle;\n",
       "    }\n",
       "\n",
       "    .dataframe tbody tr th {\n",
       "        vertical-align: top;\n",
       "    }\n",
       "\n",
       "    .dataframe thead th {\n",
       "        text-align: right;\n",
       "    }\n",
       "</style>\n",
       "<table border=\"1\" class=\"dataframe\">\n",
       "  <thead>\n",
       "    <tr style=\"text-align: right;\">\n",
       "      <th></th>\n",
       "      <th>CustomerID</th>\n",
       "      <th>AgentID</th>\n",
       "      <th>CallDate</th>\n",
       "      <th>CallPurpose</th>\n",
       "      <th>Satisfaction</th>\n",
       "      <th>first_call_customer</th>\n",
       "      <th>Week</th>\n",
       "      <th>Day</th>\n",
       "      <th>WeekDay</th>\n",
       "      <th>Month</th>\n",
       "      <th>Time</th>\n",
       "      <th>next_call_date</th>\n",
       "      <th>days_diff</th>\n",
       "      <th>days_from_start</th>\n",
       "    </tr>\n",
       "  </thead>\n",
       "  <tbody>\n",
       "    <tr>\n",
       "      <th>3</th>\n",
       "      <td>C0001</td>\n",
       "      <td>A004</td>\n",
       "      <td>2020-07-16 08:51:00</td>\n",
       "      <td>Account Balance</td>\n",
       "      <td>4</td>\n",
       "      <td>2020-06-15 09:32:00</td>\n",
       "      <td>29</td>\n",
       "      <td>16</td>\n",
       "      <td>3</td>\n",
       "      <td>7</td>\n",
       "      <td>08:51:00</td>\n",
       "      <td>2020-06-15 09:32:00</td>\n",
       "      <td>30.971528</td>\n",
       "      <td>90.953472</td>\n",
       "    </tr>\n",
       "    <tr>\n",
       "      <th>9</th>\n",
       "      <td>C0002</td>\n",
       "      <td>A002</td>\n",
       "      <td>2020-07-27 08:00:00</td>\n",
       "      <td>Cannot login</td>\n",
       "      <td>4</td>\n",
       "      <td>2020-07-20 09:20:00</td>\n",
       "      <td>31</td>\n",
       "      <td>27</td>\n",
       "      <td>0</td>\n",
       "      <td>7</td>\n",
       "      <td>08:00:00</td>\n",
       "      <td>2020-07-20 09:20:00</td>\n",
       "      <td>6.944444</td>\n",
       "      <td>76.948611</td>\n",
       "    </tr>\n",
       "    <tr>\n",
       "      <th>14</th>\n",
       "      <td>C0003</td>\n",
       "      <td>A010</td>\n",
       "      <td>2020-06-22 08:43:00</td>\n",
       "      <td>Cannot login</td>\n",
       "      <td>3</td>\n",
       "      <td>2020-06-02 08:46:00</td>\n",
       "      <td>26</td>\n",
       "      <td>22</td>\n",
       "      <td>0</td>\n",
       "      <td>6</td>\n",
       "      <td>08:43:00</td>\n",
       "      <td>2020-06-02 08:46:00</td>\n",
       "      <td>19.997917</td>\n",
       "      <td>60.029167</td>\n",
       "    </tr>\n",
       "    <tr>\n",
       "      <th>24</th>\n",
       "      <td>C0004</td>\n",
       "      <td>A004</td>\n",
       "      <td>2020-07-17 08:44:00</td>\n",
       "      <td>Account Balance</td>\n",
       "      <td>4</td>\n",
       "      <td>2020-07-02 09:51:00</td>\n",
       "      <td>29</td>\n",
       "      <td>17</td>\n",
       "      <td>4</td>\n",
       "      <td>7</td>\n",
       "      <td>08:44:00</td>\n",
       "      <td>2020-07-02 09:51:00</td>\n",
       "      <td>14.953472</td>\n",
       "      <td>102.000000</td>\n",
       "    </tr>\n",
       "    <tr>\n",
       "      <th>33</th>\n",
       "      <td>C0005</td>\n",
       "      <td>A002</td>\n",
       "      <td>2020-07-26 09:58:00</td>\n",
       "      <td>Account Balance</td>\n",
       "      <td>4</td>\n",
       "      <td>2020-06-22 09:19:00</td>\n",
       "      <td>30</td>\n",
       "      <td>26</td>\n",
       "      <td>6</td>\n",
       "      <td>7</td>\n",
       "      <td>09:58:00</td>\n",
       "      <td>2020-06-22 09:19:00</td>\n",
       "      <td>34.027083</td>\n",
       "      <td>113.057639</td>\n",
       "    </tr>\n",
       "  </tbody>\n",
       "</table>\n",
       "</div>"
      ],
      "text/plain": [
       "   CustomerID AgentID            CallDate      CallPurpose  Satisfaction  \\\n",
       "3       C0001    A004 2020-07-16 08:51:00  Account Balance             4   \n",
       "9       C0002    A002 2020-07-27 08:00:00     Cannot login             4   \n",
       "14      C0003    A010 2020-06-22 08:43:00     Cannot login             3   \n",
       "24      C0004    A004 2020-07-17 08:44:00  Account Balance             4   \n",
       "33      C0005    A002 2020-07-26 09:58:00  Account Balance             4   \n",
       "\n",
       "    first_call_customer  Week  Day  WeekDay  Month      Time  \\\n",
       "3   2020-06-15 09:32:00    29   16        3      7  08:51:00   \n",
       "9   2020-07-20 09:20:00    31   27        0      7  08:00:00   \n",
       "14  2020-06-02 08:46:00    26   22        0      6  08:43:00   \n",
       "24  2020-07-02 09:51:00    29   17        4      7  08:44:00   \n",
       "33  2020-06-22 09:19:00    30   26        6      7  09:58:00   \n",
       "\n",
       "         next_call_date  days_diff  days_from_start  \n",
       "3   2020-06-15 09:32:00  30.971528        90.953472  \n",
       "9   2020-07-20 09:20:00   6.944444        76.948611  \n",
       "14  2020-06-02 08:46:00  19.997917        60.029167  \n",
       "24  2020-07-02 09:51:00  14.953472       102.000000  \n",
       "33  2020-06-22 09:19:00  34.027083       113.057639  "
      ]
     },
     "execution_count": 106,
     "metadata": {},
     "output_type": "execute_result"
    }
   ],
   "source": [
    "check_dataframe.head()"
   ]
  },
  {
   "cell_type": "code",
   "execution_count": 107,
   "metadata": {},
   "outputs": [],
   "source": [
    "day_diff=check_dataframe[check_dataframe['CustomerID']==Predict_for_Customer]['days_diff'].values[0]\n",
    "satisfaction_value=check_dataframe[check_dataframe['CustomerID']==Predict_for_Customer]['Satisfaction'].values[0]\n",
    "client_last_call_date = check_dataframe[check_dataframe['CustomerID']==Predict_for_Customer]['CallDate'].values[0]"
   ]
  },
  {
   "cell_type": "code",
   "execution_count": 108,
   "metadata": {},
   "outputs": [],
   "source": [
    "passing_datframe=pd.DataFrame(data=[[satisfaction_value,day_diff]],columns=['Satisfaction','days_diff'])"
   ]
  },
  {
   "cell_type": "code",
   "execution_count": 109,
   "metadata": {},
   "outputs": [
    {
     "data": {
      "text/html": [
       "<div>\n",
       "<style scoped>\n",
       "    .dataframe tbody tr th:only-of-type {\n",
       "        vertical-align: middle;\n",
       "    }\n",
       "\n",
       "    .dataframe tbody tr th {\n",
       "        vertical-align: top;\n",
       "    }\n",
       "\n",
       "    .dataframe thead th {\n",
       "        text-align: right;\n",
       "    }\n",
       "</style>\n",
       "<table border=\"1\" class=\"dataframe\">\n",
       "  <thead>\n",
       "    <tr style=\"text-align: right;\">\n",
       "      <th></th>\n",
       "      <th>Satisfaction</th>\n",
       "      <th>days_diff</th>\n",
       "    </tr>\n",
       "  </thead>\n",
       "  <tbody>\n",
       "    <tr>\n",
       "      <th>0</th>\n",
       "      <td>3</td>\n",
       "      <td>19.997917</td>\n",
       "    </tr>\n",
       "  </tbody>\n",
       "</table>\n",
       "</div>"
      ],
      "text/plain": [
       "   Satisfaction  days_diff\n",
       "0             3  19.997917"
      ]
     },
     "execution_count": 109,
     "metadata": {},
     "output_type": "execute_result"
    }
   ],
   "source": [
    "passing_datframe"
   ]
  },
  {
   "cell_type": "code",
   "execution_count": 110,
   "metadata": {},
   "outputs": [],
   "source": [
    "y_pred_default = final_model.predict(passing_datframe)"
   ]
  },
  {
   "cell_type": "code",
   "execution_count": 111,
   "metadata": {},
   "outputs": [],
   "source": [
    "pred_date=y_pred_default[0]"
   ]
  },
  {
   "cell_type": "code",
   "execution_count": 112,
   "metadata": {},
   "outputs": [],
   "source": [
    "Future_predicted_date=pd.to_datetime(client_last_call_date)+ datetime.timedelta(days=pred_date)"
   ]
  },
  {
   "cell_type": "code",
   "execution_count": 113,
   "metadata": {},
   "outputs": [
    {
     "name": "stdout",
     "output_type": "stream",
     "text": [
      "Expected call date for the customer is 2020-08-21 15:11:22.513185\n"
     ]
    }
   ],
   "source": [
    "print('Expected call date for the customer is', Future_predicted_date)"
   ]
  },
  {
   "cell_type": "markdown",
   "metadata": {},
   "source": [
    "# Final Data Pipeline for Demo"
   ]
  },
  {
   "cell_type": "code",
   "execution_count": 114,
   "metadata": {},
   "outputs": [
    {
     "name": "stdout",
     "output_type": "stream",
     "text": [
      "Enter the customer_ID  :C0098\n"
     ]
    }
   ],
   "source": [
    "#Exception is not yet hnadle for new Cusomter that was not part of trainig data\n",
    "customer_id= input(\"Enter the customer_ID  :\")"
   ]
  },
  {
   "cell_type": "code",
   "execution_count": 115,
   "metadata": {},
   "outputs": [
    {
     "name": "stdout",
     "output_type": "stream",
     "text": [
      "Last call date for the customer C0098 was 2020-06-22 08:43:00\n",
      "Expected call date for the customer C0098 is 2020-08-21 15:11:22.513185\n",
      "Predicted purpose of customer C0098  is Account Balance\n"
     ]
    }
   ],
   "source": [
    "custid=customer_id\n",
    "check_dataframe=df.sort_values(['CustomerID','CallDate']).groupby(['CustomerID']).tail(1)\n",
    "day_diff=check_dataframe[check_dataframe['CustomerID']==Predict_for_Customer]['days_diff'].values[0]\n",
    "satisfaction_value=check_dataframe[check_dataframe['CustomerID']==Predict_for_Customer]['Satisfaction'].values[0]\n",
    "client_last_call_date = check_dataframe[check_dataframe['CustomerID']==Predict_for_Customer]['CallDate'].values[0]\n",
    "passing_datframe_to_predictdate=pd.DataFrame(data=[[satisfaction_value,day_diff]],columns=['Satisfaction','days_diff'])\n",
    "y_pred_default = final_model_predictfuturedate.predict(passing_datframe_to_predictdate)\n",
    "Future_predicted_date=pd.to_datetime(client_last_call_date)+ datetime.timedelta(days=y_pred_default[0])\n",
    "Future_predicted_date=pd.to_datetime(client_last_call_date)+ datetime.timedelta(days=pred_date)\n",
    "print(f'Last call date for the customer {custid} was', pd.to_datetime(client_last_call_date))\n",
    "print(f'Expected call date for the customer {custid} is', Future_predicted_date)\n",
    "check_dataframe=df.sort_values(['CustomerID','CallDate']).groupby(['CustomerID']).tail(1)\n",
    "satisfaction_value=check_dataframe[check_dataframe['CustomerID']==Predict_for_Customer]['Satisfaction'].values[0]\n",
    "last_AgentID = check_dataframe[check_dataframe['CustomerID']==Predict_for_Customer]['AgentID'].values[0]\n",
    "customer_id=Mapping[0][Predict_for_Customer]\n",
    "agent_id=Mapping[1][last_AgentID]\n",
    "passing_datframe_to_predictpurpose=pd.DataFrame(data=[[customer_id,agent_id,satisfaction_value]],columns=['CustomerID','AgentID','Satisfaction'])\n",
    "y_pred_default = final_model_predictpurpose.predict(passing_datframe_to_predictpurpose)\n",
    "print(f\"Predicted purpose of customer {custid}  is\",get_key(y_pred_default[0]))"
   ]
  },
  {
   "cell_type": "code",
   "execution_count": null,
   "metadata": {},
   "outputs": [],
   "source": []
  },
  {
   "cell_type": "markdown",
   "metadata": {},
   "source": [
    "Thank you , Any Feedback and Suggestion are appreciated....!!!!"
   ]
  },
  {
   "cell_type": "code",
   "execution_count": null,
   "metadata": {},
   "outputs": [],
   "source": []
  },
  {
   "cell_type": "code",
   "execution_count": null,
   "metadata": {},
   "outputs": [],
   "source": []
  },
  {
   "cell_type": "code",
   "execution_count": null,
   "metadata": {},
   "outputs": [],
   "source": []
  },
  {
   "cell_type": "code",
   "execution_count": null,
   "metadata": {},
   "outputs": [],
   "source": []
  }
 ],
 "metadata": {
  "kernelspec": {
   "display_name": "Python 3",
   "language": "python",
   "name": "python3"
  },
  "language_info": {
   "codemirror_mode": {
    "name": "ipython",
    "version": 3
   },
   "file_extension": ".py",
   "mimetype": "text/x-python",
   "name": "python",
   "nbconvert_exporter": "python",
   "pygments_lexer": "ipython3",
   "version": "3.7.6"
  }
 },
 "nbformat": 4,
 "nbformat_minor": 4
}
